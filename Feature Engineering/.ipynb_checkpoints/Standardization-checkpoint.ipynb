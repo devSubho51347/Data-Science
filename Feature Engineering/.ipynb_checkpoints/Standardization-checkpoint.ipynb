{
 "cells": [
  {
   "cell_type": "code",
   "execution_count": 1,
   "id": "2b34bfe4",
   "metadata": {},
   "outputs": [],
   "source": [
    "import numpy as np\n",
    "import pandas as pd\n",
    "import matplotlib.pyplot as plt\n",
    "import requests"
   ]
  },
  {
   "cell_type": "raw",
   "id": "119771d8",
   "metadata": {},
   "source": [
    "required_url = \"https://raw.githubusercontent.com/campusx-official/100-days-of-machine-learning/main/day24-standardization/Social_Network_Ads.csv\""
   ]
  },
  {
   "cell_type": "code",
   "execution_count": 3,
   "id": "31642f42",
   "metadata": {},
   "outputs": [],
   "source": [
    "data = pd.read_csv(required_url)"
   ]
  },
  {
   "cell_type": "code",
   "execution_count": 4,
   "id": "46bb9b06",
   "metadata": {},
   "outputs": [
    {
     "data": {
      "text/html": [
       "<div>\n",
       "<style scoped>\n",
       "    .dataframe tbody tr th:only-of-type {\n",
       "        vertical-align: middle;\n",
       "    }\n",
       "\n",
       "    .dataframe tbody tr th {\n",
       "        vertical-align: top;\n",
       "    }\n",
       "\n",
       "    .dataframe thead th {\n",
       "        text-align: right;\n",
       "    }\n",
       "</style>\n",
       "<table border=\"1\" class=\"dataframe\">\n",
       "  <thead>\n",
       "    <tr style=\"text-align: right;\">\n",
       "      <th></th>\n",
       "      <th>User ID</th>\n",
       "      <th>Gender</th>\n",
       "      <th>Age</th>\n",
       "      <th>EstimatedSalary</th>\n",
       "      <th>Purchased</th>\n",
       "    </tr>\n",
       "  </thead>\n",
       "  <tbody>\n",
       "    <tr>\n",
       "      <th>0</th>\n",
       "      <td>15624510</td>\n",
       "      <td>Male</td>\n",
       "      <td>19</td>\n",
       "      <td>19000</td>\n",
       "      <td>0</td>\n",
       "    </tr>\n",
       "    <tr>\n",
       "      <th>1</th>\n",
       "      <td>15810944</td>\n",
       "      <td>Male</td>\n",
       "      <td>35</td>\n",
       "      <td>20000</td>\n",
       "      <td>0</td>\n",
       "    </tr>\n",
       "    <tr>\n",
       "      <th>2</th>\n",
       "      <td>15668575</td>\n",
       "      <td>Female</td>\n",
       "      <td>26</td>\n",
       "      <td>43000</td>\n",
       "      <td>0</td>\n",
       "    </tr>\n",
       "    <tr>\n",
       "      <th>3</th>\n",
       "      <td>15603246</td>\n",
       "      <td>Female</td>\n",
       "      <td>27</td>\n",
       "      <td>57000</td>\n",
       "      <td>0</td>\n",
       "    </tr>\n",
       "    <tr>\n",
       "      <th>4</th>\n",
       "      <td>15804002</td>\n",
       "      <td>Male</td>\n",
       "      <td>19</td>\n",
       "      <td>76000</td>\n",
       "      <td>0</td>\n",
       "    </tr>\n",
       "    <tr>\n",
       "      <th>...</th>\n",
       "      <td>...</td>\n",
       "      <td>...</td>\n",
       "      <td>...</td>\n",
       "      <td>...</td>\n",
       "      <td>...</td>\n",
       "    </tr>\n",
       "    <tr>\n",
       "      <th>395</th>\n",
       "      <td>15691863</td>\n",
       "      <td>Female</td>\n",
       "      <td>46</td>\n",
       "      <td>41000</td>\n",
       "      <td>1</td>\n",
       "    </tr>\n",
       "    <tr>\n",
       "      <th>396</th>\n",
       "      <td>15706071</td>\n",
       "      <td>Male</td>\n",
       "      <td>51</td>\n",
       "      <td>23000</td>\n",
       "      <td>1</td>\n",
       "    </tr>\n",
       "    <tr>\n",
       "      <th>397</th>\n",
       "      <td>15654296</td>\n",
       "      <td>Female</td>\n",
       "      <td>50</td>\n",
       "      <td>20000</td>\n",
       "      <td>1</td>\n",
       "    </tr>\n",
       "    <tr>\n",
       "      <th>398</th>\n",
       "      <td>15755018</td>\n",
       "      <td>Male</td>\n",
       "      <td>36</td>\n",
       "      <td>33000</td>\n",
       "      <td>0</td>\n",
       "    </tr>\n",
       "    <tr>\n",
       "      <th>399</th>\n",
       "      <td>15594041</td>\n",
       "      <td>Female</td>\n",
       "      <td>49</td>\n",
       "      <td>36000</td>\n",
       "      <td>1</td>\n",
       "    </tr>\n",
       "  </tbody>\n",
       "</table>\n",
       "<p>400 rows × 5 columns</p>\n",
       "</div>"
      ],
      "text/plain": [
       "      User ID  Gender  Age  EstimatedSalary  Purchased\n",
       "0    15624510    Male   19            19000          0\n",
       "1    15810944    Male   35            20000          0\n",
       "2    15668575  Female   26            43000          0\n",
       "3    15603246  Female   27            57000          0\n",
       "4    15804002    Male   19            76000          0\n",
       "..        ...     ...  ...              ...        ...\n",
       "395  15691863  Female   46            41000          1\n",
       "396  15706071    Male   51            23000          1\n",
       "397  15654296  Female   50            20000          1\n",
       "398  15755018    Male   36            33000          0\n",
       "399  15594041  Female   49            36000          1\n",
       "\n",
       "[400 rows x 5 columns]"
      ]
     },
     "execution_count": 4,
     "metadata": {},
     "output_type": "execute_result"
    }
   ],
   "source": [
    "data"
   ]
  },
  {
   "cell_type": "markdown",
   "id": "6290c3e8",
   "metadata": {},
   "source": [
    "### For this exercise we are removing categorical data and User ID"
   ]
  },
  {
   "cell_type": "code",
   "execution_count": 5,
   "id": "a2ced833",
   "metadata": {},
   "outputs": [],
   "source": [
    "data = data.iloc[:,2:5]"
   ]
  },
  {
   "cell_type": "code",
   "execution_count": 6,
   "id": "147dcc16",
   "metadata": {},
   "outputs": [
    {
     "data": {
      "text/html": [
       "<div>\n",
       "<style scoped>\n",
       "    .dataframe tbody tr th:only-of-type {\n",
       "        vertical-align: middle;\n",
       "    }\n",
       "\n",
       "    .dataframe tbody tr th {\n",
       "        vertical-align: top;\n",
       "    }\n",
       "\n",
       "    .dataframe thead th {\n",
       "        text-align: right;\n",
       "    }\n",
       "</style>\n",
       "<table border=\"1\" class=\"dataframe\">\n",
       "  <thead>\n",
       "    <tr style=\"text-align: right;\">\n",
       "      <th></th>\n",
       "      <th>Age</th>\n",
       "      <th>EstimatedSalary</th>\n",
       "      <th>Purchased</th>\n",
       "    </tr>\n",
       "  </thead>\n",
       "  <tbody>\n",
       "    <tr>\n",
       "      <th>0</th>\n",
       "      <td>19</td>\n",
       "      <td>19000</td>\n",
       "      <td>0</td>\n",
       "    </tr>\n",
       "    <tr>\n",
       "      <th>1</th>\n",
       "      <td>35</td>\n",
       "      <td>20000</td>\n",
       "      <td>0</td>\n",
       "    </tr>\n",
       "    <tr>\n",
       "      <th>2</th>\n",
       "      <td>26</td>\n",
       "      <td>43000</td>\n",
       "      <td>0</td>\n",
       "    </tr>\n",
       "    <tr>\n",
       "      <th>3</th>\n",
       "      <td>27</td>\n",
       "      <td>57000</td>\n",
       "      <td>0</td>\n",
       "    </tr>\n",
       "    <tr>\n",
       "      <th>4</th>\n",
       "      <td>19</td>\n",
       "      <td>76000</td>\n",
       "      <td>0</td>\n",
       "    </tr>\n",
       "    <tr>\n",
       "      <th>...</th>\n",
       "      <td>...</td>\n",
       "      <td>...</td>\n",
       "      <td>...</td>\n",
       "    </tr>\n",
       "    <tr>\n",
       "      <th>395</th>\n",
       "      <td>46</td>\n",
       "      <td>41000</td>\n",
       "      <td>1</td>\n",
       "    </tr>\n",
       "    <tr>\n",
       "      <th>396</th>\n",
       "      <td>51</td>\n",
       "      <td>23000</td>\n",
       "      <td>1</td>\n",
       "    </tr>\n",
       "    <tr>\n",
       "      <th>397</th>\n",
       "      <td>50</td>\n",
       "      <td>20000</td>\n",
       "      <td>1</td>\n",
       "    </tr>\n",
       "    <tr>\n",
       "      <th>398</th>\n",
       "      <td>36</td>\n",
       "      <td>33000</td>\n",
       "      <td>0</td>\n",
       "    </tr>\n",
       "    <tr>\n",
       "      <th>399</th>\n",
       "      <td>49</td>\n",
       "      <td>36000</td>\n",
       "      <td>1</td>\n",
       "    </tr>\n",
       "  </tbody>\n",
       "</table>\n",
       "<p>400 rows × 3 columns</p>\n",
       "</div>"
      ],
      "text/plain": [
       "     Age  EstimatedSalary  Purchased\n",
       "0     19            19000          0\n",
       "1     35            20000          0\n",
       "2     26            43000          0\n",
       "3     27            57000          0\n",
       "4     19            76000          0\n",
       "..   ...              ...        ...\n",
       "395   46            41000          1\n",
       "396   51            23000          1\n",
       "397   50            20000          1\n",
       "398   36            33000          0\n",
       "399   49            36000          1\n",
       "\n",
       "[400 rows x 3 columns]"
      ]
     },
     "execution_count": 6,
     "metadata": {},
     "output_type": "execute_result"
    }
   ],
   "source": [
    "data"
   ]
  },
  {
   "cell_type": "markdown",
   "id": "b3ebb7fe",
   "metadata": {},
   "source": [
    "## Train Test Split"
   ]
  },
  {
   "cell_type": "code",
   "execution_count": 20,
   "id": "843921e6",
   "metadata": {},
   "outputs": [],
   "source": [
    "from sklearn.model_selection import train_test_split\n",
    "X_train, X_test, Y_train, Y_test = train_test_split(data.drop(\"Purchased\", axis = 1),data[\"Purchased\"], test_size = 0.3, \n",
    "                                                    random_state = 0)"
   ]
  },
  {
   "cell_type": "markdown",
   "id": "3053b9cb",
   "metadata": {},
   "source": [
    "## Why do we need to use random state in train_test_ssplit?"
   ]
  },
  {
   "cell_type": "markdown",
   "id": "b64b474c",
   "metadata": {},
   "source": [
    "random_state is basically used for reproducing your problem the same every time it is run. If you do not use a random_state in train_test_split, every time you make the split you might get a different set of train and test data points and will not help you in debugging in case you get an issue."
   ]
  },
  {
   "cell_type": "code",
   "execution_count": 21,
   "id": "3b2a328f",
   "metadata": {},
   "outputs": [
    {
     "data": {
      "text/plain": [
       "92     0\n",
       "223    1\n",
       "234    0\n",
       "232    1\n",
       "377    0\n",
       "      ..\n",
       "323    1\n",
       "192    0\n",
       "117    0\n",
       "47     0\n",
       "172    0\n",
       "Name: Purchased, Length: 280, dtype: int64"
      ]
     },
     "execution_count": 21,
     "metadata": {},
     "output_type": "execute_result"
    }
   ],
   "source": [
    "Y_train"
   ]
  },
  {
   "cell_type": "markdown",
   "id": "12f3f49e",
   "metadata": {},
   "source": [
    "## StandardScaler"
   ]
  },
  {
   "cell_type": "code",
   "execution_count": 22,
   "id": "483ba2b4",
   "metadata": {},
   "outputs": [],
   "source": [
    "from sklearn.preprocessing import StandardScaler\n",
    "# The for mula which we are using over hear is that of z Normalization\n",
    "\n",
    "scaler = StandardScaler()\n",
    "scaler.fit(X_train)\n",
    "X_train_scaled = scaler.transform(X_train)\n",
    "X_test_scaled = scaler.transform(X_test)"
   ]
  },
  {
   "cell_type": "code",
   "execution_count": 24,
   "id": "fce414f4",
   "metadata": {},
   "outputs": [
    {
     "data": {
      "text/plain": [
       "array([[-0.77101313,  0.49720103],\n",
       "       [ 0.0133054 , -0.57280368],\n",
       "       [-0.28081405,  0.15017248],\n",
       "       [-0.77101313,  0.26584866],\n",
       "       [-0.28081405, -0.57280368],\n",
       "       [-1.06513258, -1.44037507],\n",
       "       [-0.67297331, -1.5849703 ],\n",
       "       [-0.18277423,  2.14558666],\n",
       "       [-1.94749093, -0.05226085],\n",
       "       [ 0.89566375, -0.775237  ],\n",
       "       [-0.77101313, -0.60172273],\n",
       "       [-0.96709276, -0.42820845],\n",
       "       [-0.08473441, -0.42820845],\n",
       "       [ 0.11134522,  0.20801057],\n",
       "       [-1.7514113 ,  0.46828198],\n",
       "       [-0.5749335 ,  1.36477242],\n",
       "       [-0.08473441,  0.20801057],\n",
       "       [-1.84945111,  0.43936294],\n",
       "       [ 1.67998229,  1.74072002],\n",
       "       [-0.28081405, -1.38253697],\n",
       "       [-0.28081405, -0.65956082],\n",
       "       [ 0.89566375,  2.14558666],\n",
       "       [ 0.30742485, -0.54388463],\n",
       "       [ 0.89566375,  1.01774386],\n",
       "       [-1.45729185, -1.2090227 ],\n",
       "       [ 1.09174339,  2.05882953],\n",
       "       [-0.96709276,  0.49720103],\n",
       "       [-0.86905295,  0.29476771],\n",
       "       [-0.08473441, -0.22577513],\n",
       "       [-0.5749335 ,  0.46828198],\n",
       "       [-1.65337148,  0.52612008],\n",
       "       [-0.08473441,  0.26584866],\n",
       "       [ 1.87606192, -0.28361322],\n",
       "       [-0.08473441, -0.48604654],\n",
       "       [-1.35925203, -0.34145131],\n",
       "       [-1.94749093, -0.51496559],\n",
       "       [-1.55533166,  0.32368675],\n",
       "       [-0.37885386, -0.775237  ],\n",
       "       [-0.67297331, -1.03550842],\n",
       "       [ 1.09174339, -0.97767033],\n",
       "       [-1.06513258,  0.52612008],\n",
       "       [ 0.30742485, -0.51496559],\n",
       "       [-1.06513258,  0.41044389],\n",
       "       [-0.28081405, -1.44037507],\n",
       "       [ 0.50350449,  1.22017719],\n",
       "       [-1.06513258, -0.34145131],\n",
       "       [-0.08473441,  0.29476771],\n",
       "       [ 1.38586284,  0.58395817],\n",
       "       [-1.1631724 , -1.1511846 ],\n",
       "       [ 1.09174339,  0.46828198],\n",
       "       [ 1.87606192,  1.50936765],\n",
       "       [-0.37885386, -1.29577984],\n",
       "       [-0.28081405, -0.37037036],\n",
       "       [-0.37885386,  1.30693432],\n",
       "       [ 2.07214155,  0.52612008],\n",
       "       [ 0.69958412, -1.09334651],\n",
       "       [-0.86905295,  0.38152485],\n",
       "       [-1.1631724 ,  0.29476771],\n",
       "       [ 1.09174339, -1.2090227 ],\n",
       "       [-1.45729185, -1.44037507],\n",
       "       [-0.5749335 , -1.49821316],\n",
       "       [ 2.17018137, -0.80415605],\n",
       "       [-1.84945111,  0.17909152],\n",
       "       [-0.18277423,  0.84422958],\n",
       "       [-1.84945111, -1.26686079],\n",
       "       [ 2.17018137,  0.38152485],\n",
       "       [-1.35925203,  0.55503912],\n",
       "       [-1.06513258, -0.34145131],\n",
       "       [ 0.20938504, -0.65956082],\n",
       "       [ 0.40546467,  0.00557724],\n",
       "       [-0.5749335 ,  2.31910094],\n",
       "       [-0.28081405,  0.20801057],\n",
       "       [-1.55533166, -0.19685608],\n",
       "       [ 0.69958412, -1.38253697],\n",
       "       [-1.06513258,  0.55503912],\n",
       "       [-1.94749093,  0.3526058 ],\n",
       "       [ 0.40546467,  0.26584866],\n",
       "       [ 0.20938504, -0.28361322],\n",
       "       [ 1.48390265, -1.03550842],\n",
       "       [ 0.89566375,  1.07558195],\n",
       "       [ 1.97410174,  2.14558666],\n",
       "       [ 2.07214155,  0.38152485],\n",
       "       [-1.35925203, -0.42820845],\n",
       "       [-1.1631724 , -1.00658937],\n",
       "       [ 1.97410174, -0.91983223],\n",
       "       [ 0.40546467,  0.29476771],\n",
       "       [ 0.20938504,  0.15017248],\n",
       "       [ 2.07214155,  1.74072002],\n",
       "       [ 0.79762394, -0.8330751 ],\n",
       "       [ 0.30742485, -0.28361322],\n",
       "       [ 0.40546467, -0.16793703],\n",
       "       [-0.08473441,  2.20342476],\n",
       "       [-1.45729185, -0.63064177],\n",
       "       [-1.26121221, -1.06442747],\n",
       "       [-1.35925203,  0.41044389],\n",
       "       [-1.06513258,  0.75747245],\n",
       "       [-1.45729185, -0.19685608],\n",
       "       [ 0.99370357, -1.06442747],\n",
       "       [ 0.99370357,  0.58395817],\n",
       "       [ 0.40546467,  0.98882482],\n",
       "       [ 0.6015443 , -0.89091319],\n",
       "       [-0.5749335 ,  1.45152956],\n",
       "       [ 0.0133054 , -0.57280368],\n",
       "       [-0.5749335 ,  1.88531525],\n",
       "       [ 1.38586284, -1.41145602],\n",
       "       [ 1.48390265,  0.98882482],\n",
       "       [ 0.11134522, -0.80415605],\n",
       "       [ 0.0133054 , -0.25469417],\n",
       "       [-0.18277423, -0.57280368],\n",
       "       [-0.18277423, -0.19685608],\n",
       "       [-0.28081405, -1.29577984],\n",
       "       [-0.28081405, -0.57280368],\n",
       "       [ 0.40546467,  0.09233438],\n",
       "       [ 0.89566375, -0.60172273],\n",
       "       [ 2.07214155, -1.18010365],\n",
       "       [ 1.09174339, -0.13901799],\n",
       "       [ 0.69958412,  1.76963906],\n",
       "       [-0.67297331,  0.55503912],\n",
       "       [ 0.79762394,  0.3526058 ],\n",
       "       [ 0.89566375, -0.54388463]])"
      ]
     },
     "execution_count": 24,
     "metadata": {},
     "output_type": "execute_result"
    }
   ],
   "source": [
    "X_test_scaled"
   ]
  },
  {
   "cell_type": "code",
   "execution_count": 25,
   "id": "0732c0a1",
   "metadata": {},
   "outputs": [
    {
     "data": {
      "text/plain": [
       "array([3.78642857e+01, 6.98071429e+04])"
      ]
     },
     "execution_count": 25,
     "metadata": {},
     "output_type": "execute_result"
    }
   ],
   "source": [
    "scaler.mean_"
   ]
  },
  {
   "cell_type": "markdown",
   "id": "c56c37a7",
   "metadata": {},
   "source": [
    "### Since the datasets returned after scaling are numpy arrays so we have to convert them into Pandas dataframes"
   ]
  },
  {
   "cell_type": "code",
   "execution_count": 30,
   "id": "9009f835",
   "metadata": {},
   "outputs": [
    {
     "ename": "TypeError",
     "evalue": "__init__() got an unexpected keyword argument 'column'",
     "output_type": "error",
     "traceback": [
      "\u001b[1;31m---------------------------------------------------------------------------\u001b[0m",
      "\u001b[1;31mTypeError\u001b[0m                                 Traceback (most recent call last)",
      "\u001b[1;32m~\\AppData\\Local\\Temp/ipykernel_22200/297166291.py\u001b[0m in \u001b[0;36m<module>\u001b[1;34m\u001b[0m\n\u001b[0;32m      1\u001b[0m \u001b[0mX_train_scaled\u001b[0m \u001b[1;33m=\u001b[0m \u001b[0mpd\u001b[0m\u001b[1;33m.\u001b[0m\u001b[0mDataFrame\u001b[0m\u001b[1;33m(\u001b[0m\u001b[0mX_train_scaled\u001b[0m\u001b[1;33m,\u001b[0m \u001b[0mcolumns\u001b[0m \u001b[1;33m=\u001b[0m \u001b[0mX_train\u001b[0m\u001b[1;33m.\u001b[0m\u001b[0mcolumns\u001b[0m\u001b[1;33m)\u001b[0m\u001b[1;33m\u001b[0m\u001b[1;33m\u001b[0m\u001b[0m\n\u001b[1;32m----> 2\u001b[1;33m \u001b[0mX_test_scaled\u001b[0m \u001b[1;33m=\u001b[0m \u001b[0mpd\u001b[0m\u001b[1;33m.\u001b[0m\u001b[0mDataFrame\u001b[0m\u001b[1;33m(\u001b[0m\u001b[0mX_test_scaled\u001b[0m\u001b[1;33m,\u001b[0m \u001b[0mcolumn\u001b[0m \u001b[1;33m=\u001b[0m \u001b[0mX_test\u001b[0m\u001b[1;33m.\u001b[0m\u001b[0mcolumns\u001b[0m\u001b[1;33m)\u001b[0m\u001b[1;33m\u001b[0m\u001b[1;33m\u001b[0m\u001b[0m\n\u001b[0m",
      "\u001b[1;31mTypeError\u001b[0m: __init__() got an unexpected keyword argument 'column'"
     ]
    }
   ],
   "source": [
    "X_train_scaled = pd.DataFrame(X_train_scaled, columns = X_train.columns)\n",
    "X_test_scaled = pd.DataFrame(X_test_scaled, column = X_test.columns)"
   ]
  },
  {
   "cell_type": "code",
   "execution_count": null,
   "id": "c28a3754",
   "metadata": {},
   "outputs": [],
   "source": []
  }
 ],
 "metadata": {
  "kernelspec": {
   "display_name": "Python 3 (ipykernel)",
   "language": "python",
   "name": "python3"
  },
  "language_info": {
   "codemirror_mode": {
    "name": "ipython",
    "version": 3
   },
   "file_extension": ".py",
   "mimetype": "text/x-python",
   "name": "python",
   "nbconvert_exporter": "python",
   "pygments_lexer": "ipython3",
   "version": "3.9.7"
  }
 },
 "nbformat": 4,
 "nbformat_minor": 5
}
