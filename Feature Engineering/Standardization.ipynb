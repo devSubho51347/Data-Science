{
 "cells": [
  {
   "cell_type": "code",
   "execution_count": 47,
   "id": "d9c698a8",
   "metadata": {},
   "outputs": [
    {
     "name": "stdout",
     "output_type": "stream",
     "text": [
      "Collecting seaborn"
     ]
    },
    {
     "name": "stderr",
     "output_type": "stream",
     "text": [
      "WARNING: You are using pip version 21.2.3; however, version 21.3.1 is available.\n",
      "You should consider upgrading via the 'C:\\Users\\subho\\AppData\\Local\\Programs\\Python\\Python39\\python.exe -m pip install --upgrade pip' command.\n"
     ]
    },
    {
     "name": "stdout",
     "output_type": "stream",
     "text": [
      "\n",
      "  Downloading seaborn-0.11.2-py3-none-any.whl (292 kB)\n",
      "Requirement already satisfied: pandas>=0.23 in c:\\users\\subho\\appdata\\local\\programs\\python\\python39\\lib\\site-packages (from seaborn) (1.3.3)\n",
      "Requirement already satisfied: matplotlib>=2.2 in c:\\users\\subho\\appdata\\local\\programs\\python\\python39\\lib\\site-packages (from seaborn) (3.4.3)\n",
      "Requirement already satisfied: numpy>=1.15 in c:\\users\\subho\\appdata\\local\\programs\\python\\python39\\lib\\site-packages (from seaborn) (1.21.2)\n",
      "Requirement already satisfied: scipy>=1.0 in c:\\users\\subho\\appdata\\local\\programs\\python\\python39\\lib\\site-packages (from seaborn) (1.7.3)\n",
      "Requirement already satisfied: python-dateutil>=2.7 in c:\\users\\subho\\appdata\\local\\programs\\python\\python39\\lib\\site-packages (from matplotlib>=2.2->seaborn) (2.8.2)\n",
      "Requirement already satisfied: kiwisolver>=1.0.1 in c:\\users\\subho\\appdata\\local\\programs\\python\\python39\\lib\\site-packages (from matplotlib>=2.2->seaborn) (1.3.2)\n",
      "Requirement already satisfied: cycler>=0.10 in c:\\users\\subho\\appdata\\local\\programs\\python\\python39\\lib\\site-packages (from matplotlib>=2.2->seaborn) (0.10.0)\n",
      "Requirement already satisfied: pyparsing>=2.2.1 in c:\\users\\subho\\appdata\\local\\programs\\python\\python39\\lib\\site-packages (from matplotlib>=2.2->seaborn) (2.4.7)\n",
      "Requirement already satisfied: pillow>=6.2.0 in c:\\users\\subho\\appdata\\local\\programs\\python\\python39\\lib\\site-packages (from matplotlib>=2.2->seaborn) (8.3.2)\n",
      "Requirement already satisfied: six in c:\\users\\subho\\appdata\\local\\programs\\python\\python39\\lib\\site-packages (from cycler>=0.10->matplotlib>=2.2->seaborn) (1.16.0)\n",
      "Requirement already satisfied: pytz>=2017.3 in c:\\users\\subho\\appdata\\local\\programs\\python\\python39\\lib\\site-packages (from pandas>=0.23->seaborn) (2021.3)\n",
      "Installing collected packages: seaborn\n",
      "Successfully installed seaborn-0.11.2\n"
     ]
    }
   ],
   "source": [
    "!pip install seaborn"
   ]
  },
  {
   "cell_type": "code",
   "execution_count": 48,
   "id": "a8af137a",
   "metadata": {},
   "outputs": [],
   "source": [
    "import numpy as np\n",
    "import pandas as pd\n",
    "import matplotlib.pyplot as plt\n",
    "import requests\n",
    "import seaborn as sns"
   ]
  },
  {
   "cell_type": "raw",
   "id": "09733539",
   "metadata": {},
   "source": [
    "required_url = \"https://raw.githubusercontent.com/campusx-official/100-days-of-machine-learning/main/day24-standardization/Social_Network_Ads.csv\""
   ]
  },
  {
   "cell_type": "code",
   "execution_count": 3,
   "id": "525a07a6",
   "metadata": {},
   "outputs": [],
   "source": [
    "data = pd.read_csv(required_url)"
   ]
  },
  {
   "cell_type": "code",
   "execution_count": 4,
   "id": "07cd7099",
   "metadata": {},
   "outputs": [
    {
     "data": {
      "text/html": [
       "<div>\n",
       "<style scoped>\n",
       "    .dataframe tbody tr th:only-of-type {\n",
       "        vertical-align: middle;\n",
       "    }\n",
       "\n",
       "    .dataframe tbody tr th {\n",
       "        vertical-align: top;\n",
       "    }\n",
       "\n",
       "    .dataframe thead th {\n",
       "        text-align: right;\n",
       "    }\n",
       "</style>\n",
       "<table border=\"1\" class=\"dataframe\">\n",
       "  <thead>\n",
       "    <tr style=\"text-align: right;\">\n",
       "      <th></th>\n",
       "      <th>User ID</th>\n",
       "      <th>Gender</th>\n",
       "      <th>Age</th>\n",
       "      <th>EstimatedSalary</th>\n",
       "      <th>Purchased</th>\n",
       "    </tr>\n",
       "  </thead>\n",
       "  <tbody>\n",
       "    <tr>\n",
       "      <th>0</th>\n",
       "      <td>15624510</td>\n",
       "      <td>Male</td>\n",
       "      <td>19</td>\n",
       "      <td>19000</td>\n",
       "      <td>0</td>\n",
       "    </tr>\n",
       "    <tr>\n",
       "      <th>1</th>\n",
       "      <td>15810944</td>\n",
       "      <td>Male</td>\n",
       "      <td>35</td>\n",
       "      <td>20000</td>\n",
       "      <td>0</td>\n",
       "    </tr>\n",
       "    <tr>\n",
       "      <th>2</th>\n",
       "      <td>15668575</td>\n",
       "      <td>Female</td>\n",
       "      <td>26</td>\n",
       "      <td>43000</td>\n",
       "      <td>0</td>\n",
       "    </tr>\n",
       "    <tr>\n",
       "      <th>3</th>\n",
       "      <td>15603246</td>\n",
       "      <td>Female</td>\n",
       "      <td>27</td>\n",
       "      <td>57000</td>\n",
       "      <td>0</td>\n",
       "    </tr>\n",
       "    <tr>\n",
       "      <th>4</th>\n",
       "      <td>15804002</td>\n",
       "      <td>Male</td>\n",
       "      <td>19</td>\n",
       "      <td>76000</td>\n",
       "      <td>0</td>\n",
       "    </tr>\n",
       "    <tr>\n",
       "      <th>...</th>\n",
       "      <td>...</td>\n",
       "      <td>...</td>\n",
       "      <td>...</td>\n",
       "      <td>...</td>\n",
       "      <td>...</td>\n",
       "    </tr>\n",
       "    <tr>\n",
       "      <th>395</th>\n",
       "      <td>15691863</td>\n",
       "      <td>Female</td>\n",
       "      <td>46</td>\n",
       "      <td>41000</td>\n",
       "      <td>1</td>\n",
       "    </tr>\n",
       "    <tr>\n",
       "      <th>396</th>\n",
       "      <td>15706071</td>\n",
       "      <td>Male</td>\n",
       "      <td>51</td>\n",
       "      <td>23000</td>\n",
       "      <td>1</td>\n",
       "    </tr>\n",
       "    <tr>\n",
       "      <th>397</th>\n",
       "      <td>15654296</td>\n",
       "      <td>Female</td>\n",
       "      <td>50</td>\n",
       "      <td>20000</td>\n",
       "      <td>1</td>\n",
       "    </tr>\n",
       "    <tr>\n",
       "      <th>398</th>\n",
       "      <td>15755018</td>\n",
       "      <td>Male</td>\n",
       "      <td>36</td>\n",
       "      <td>33000</td>\n",
       "      <td>0</td>\n",
       "    </tr>\n",
       "    <tr>\n",
       "      <th>399</th>\n",
       "      <td>15594041</td>\n",
       "      <td>Female</td>\n",
       "      <td>49</td>\n",
       "      <td>36000</td>\n",
       "      <td>1</td>\n",
       "    </tr>\n",
       "  </tbody>\n",
       "</table>\n",
       "<p>400 rows × 5 columns</p>\n",
       "</div>"
      ],
      "text/plain": [
       "      User ID  Gender  Age  EstimatedSalary  Purchased\n",
       "0    15624510    Male   19            19000          0\n",
       "1    15810944    Male   35            20000          0\n",
       "2    15668575  Female   26            43000          0\n",
       "3    15603246  Female   27            57000          0\n",
       "4    15804002    Male   19            76000          0\n",
       "..        ...     ...  ...              ...        ...\n",
       "395  15691863  Female   46            41000          1\n",
       "396  15706071    Male   51            23000          1\n",
       "397  15654296  Female   50            20000          1\n",
       "398  15755018    Male   36            33000          0\n",
       "399  15594041  Female   49            36000          1\n",
       "\n",
       "[400 rows x 5 columns]"
      ]
     },
     "execution_count": 4,
     "metadata": {},
     "output_type": "execute_result"
    }
   ],
   "source": [
    "data"
   ]
  },
  {
   "cell_type": "markdown",
   "id": "6d19be3a",
   "metadata": {},
   "source": [
    "### For this exercise we are removing categorical data and User ID"
   ]
  },
  {
   "cell_type": "code",
   "execution_count": 5,
   "id": "bae9d570",
   "metadata": {},
   "outputs": [],
   "source": [
    "data = data.iloc[:,2:5]"
   ]
  },
  {
   "cell_type": "code",
   "execution_count": 6,
   "id": "4af4e7cd",
   "metadata": {},
   "outputs": [
    {
     "data": {
      "text/html": [
       "<div>\n",
       "<style scoped>\n",
       "    .dataframe tbody tr th:only-of-type {\n",
       "        vertical-align: middle;\n",
       "    }\n",
       "\n",
       "    .dataframe tbody tr th {\n",
       "        vertical-align: top;\n",
       "    }\n",
       "\n",
       "    .dataframe thead th {\n",
       "        text-align: right;\n",
       "    }\n",
       "</style>\n",
       "<table border=\"1\" class=\"dataframe\">\n",
       "  <thead>\n",
       "    <tr style=\"text-align: right;\">\n",
       "      <th></th>\n",
       "      <th>Age</th>\n",
       "      <th>EstimatedSalary</th>\n",
       "      <th>Purchased</th>\n",
       "    </tr>\n",
       "  </thead>\n",
       "  <tbody>\n",
       "    <tr>\n",
       "      <th>0</th>\n",
       "      <td>19</td>\n",
       "      <td>19000</td>\n",
       "      <td>0</td>\n",
       "    </tr>\n",
       "    <tr>\n",
       "      <th>1</th>\n",
       "      <td>35</td>\n",
       "      <td>20000</td>\n",
       "      <td>0</td>\n",
       "    </tr>\n",
       "    <tr>\n",
       "      <th>2</th>\n",
       "      <td>26</td>\n",
       "      <td>43000</td>\n",
       "      <td>0</td>\n",
       "    </tr>\n",
       "    <tr>\n",
       "      <th>3</th>\n",
       "      <td>27</td>\n",
       "      <td>57000</td>\n",
       "      <td>0</td>\n",
       "    </tr>\n",
       "    <tr>\n",
       "      <th>4</th>\n",
       "      <td>19</td>\n",
       "      <td>76000</td>\n",
       "      <td>0</td>\n",
       "    </tr>\n",
       "    <tr>\n",
       "      <th>...</th>\n",
       "      <td>...</td>\n",
       "      <td>...</td>\n",
       "      <td>...</td>\n",
       "    </tr>\n",
       "    <tr>\n",
       "      <th>395</th>\n",
       "      <td>46</td>\n",
       "      <td>41000</td>\n",
       "      <td>1</td>\n",
       "    </tr>\n",
       "    <tr>\n",
       "      <th>396</th>\n",
       "      <td>51</td>\n",
       "      <td>23000</td>\n",
       "      <td>1</td>\n",
       "    </tr>\n",
       "    <tr>\n",
       "      <th>397</th>\n",
       "      <td>50</td>\n",
       "      <td>20000</td>\n",
       "      <td>1</td>\n",
       "    </tr>\n",
       "    <tr>\n",
       "      <th>398</th>\n",
       "      <td>36</td>\n",
       "      <td>33000</td>\n",
       "      <td>0</td>\n",
       "    </tr>\n",
       "    <tr>\n",
       "      <th>399</th>\n",
       "      <td>49</td>\n",
       "      <td>36000</td>\n",
       "      <td>1</td>\n",
       "    </tr>\n",
       "  </tbody>\n",
       "</table>\n",
       "<p>400 rows × 3 columns</p>\n",
       "</div>"
      ],
      "text/plain": [
       "     Age  EstimatedSalary  Purchased\n",
       "0     19            19000          0\n",
       "1     35            20000          0\n",
       "2     26            43000          0\n",
       "3     27            57000          0\n",
       "4     19            76000          0\n",
       "..   ...              ...        ...\n",
       "395   46            41000          1\n",
       "396   51            23000          1\n",
       "397   50            20000          1\n",
       "398   36            33000          0\n",
       "399   49            36000          1\n",
       "\n",
       "[400 rows x 3 columns]"
      ]
     },
     "execution_count": 6,
     "metadata": {},
     "output_type": "execute_result"
    }
   ],
   "source": [
    "data"
   ]
  },
  {
   "cell_type": "markdown",
   "id": "09544810",
   "metadata": {},
   "source": [
    "## Train Test Split"
   ]
  },
  {
   "cell_type": "code",
   "execution_count": 20,
   "id": "3c888316",
   "metadata": {},
   "outputs": [],
   "source": [
    "from sklearn.model_selection import train_test_split\n",
    "X_train, X_test, Y_train, Y_test = train_test_split(data.drop(\"Purchased\", axis = 1),data[\"Purchased\"], test_size = 0.3, \n",
    "                                                    random_state = 0)"
   ]
  },
  {
   "cell_type": "markdown",
   "id": "00d78868",
   "metadata": {},
   "source": [
    "## Why do we need to use random state in train_test_ssplit?"
   ]
  },
  {
   "cell_type": "markdown",
   "id": "bf16e254",
   "metadata": {},
   "source": [
    "random_state is basically used for reproducing your problem the same every time it is run. If you do not use a random_state in train_test_split, every time you make the split you might get a different set of train and test data points and will not help you in debugging in case you get an issue."
   ]
  },
  {
   "cell_type": "code",
   "execution_count": 21,
   "id": "32b42fa3",
   "metadata": {},
   "outputs": [
    {
     "data": {
      "text/plain": [
       "92     0\n",
       "223    1\n",
       "234    0\n",
       "232    1\n",
       "377    0\n",
       "      ..\n",
       "323    1\n",
       "192    0\n",
       "117    0\n",
       "47     0\n",
       "172    0\n",
       "Name: Purchased, Length: 280, dtype: int64"
      ]
     },
     "execution_count": 21,
     "metadata": {},
     "output_type": "execute_result"
    }
   ],
   "source": [
    "Y_train"
   ]
  },
  {
   "cell_type": "markdown",
   "id": "564c98b4",
   "metadata": {},
   "source": [
    "## StandardScaler"
   ]
  },
  {
   "cell_type": "code",
   "execution_count": 22,
   "id": "2af9485f",
   "metadata": {},
   "outputs": [],
   "source": [
    "from sklearn.preprocessing import StandardScaler\n",
    "# The for mula which we are using over hear is that of z Normalization\n",
    "\n",
    "scaler = StandardScaler()\n",
    "scaler.fit(X_train)\n",
    "X_train_scaled = scaler.transform(X_train)\n",
    "X_test_scaled = scaler.transform(X_test)"
   ]
  },
  {
   "cell_type": "code",
   "execution_count": 24,
   "id": "78c48737",
   "metadata": {},
   "outputs": [
    {
     "data": {
      "text/plain": [
       "array([[-0.77101313,  0.49720103],\n",
       "       [ 0.0133054 , -0.57280368],\n",
       "       [-0.28081405,  0.15017248],\n",
       "       [-0.77101313,  0.26584866],\n",
       "       [-0.28081405, -0.57280368],\n",
       "       [-1.06513258, -1.44037507],\n",
       "       [-0.67297331, -1.5849703 ],\n",
       "       [-0.18277423,  2.14558666],\n",
       "       [-1.94749093, -0.05226085],\n",
       "       [ 0.89566375, -0.775237  ],\n",
       "       [-0.77101313, -0.60172273],\n",
       "       [-0.96709276, -0.42820845],\n",
       "       [-0.08473441, -0.42820845],\n",
       "       [ 0.11134522,  0.20801057],\n",
       "       [-1.7514113 ,  0.46828198],\n",
       "       [-0.5749335 ,  1.36477242],\n",
       "       [-0.08473441,  0.20801057],\n",
       "       [-1.84945111,  0.43936294],\n",
       "       [ 1.67998229,  1.74072002],\n",
       "       [-0.28081405, -1.38253697],\n",
       "       [-0.28081405, -0.65956082],\n",
       "       [ 0.89566375,  2.14558666],\n",
       "       [ 0.30742485, -0.54388463],\n",
       "       [ 0.89566375,  1.01774386],\n",
       "       [-1.45729185, -1.2090227 ],\n",
       "       [ 1.09174339,  2.05882953],\n",
       "       [-0.96709276,  0.49720103],\n",
       "       [-0.86905295,  0.29476771],\n",
       "       [-0.08473441, -0.22577513],\n",
       "       [-0.5749335 ,  0.46828198],\n",
       "       [-1.65337148,  0.52612008],\n",
       "       [-0.08473441,  0.26584866],\n",
       "       [ 1.87606192, -0.28361322],\n",
       "       [-0.08473441, -0.48604654],\n",
       "       [-1.35925203, -0.34145131],\n",
       "       [-1.94749093, -0.51496559],\n",
       "       [-1.55533166,  0.32368675],\n",
       "       [-0.37885386, -0.775237  ],\n",
       "       [-0.67297331, -1.03550842],\n",
       "       [ 1.09174339, -0.97767033],\n",
       "       [-1.06513258,  0.52612008],\n",
       "       [ 0.30742485, -0.51496559],\n",
       "       [-1.06513258,  0.41044389],\n",
       "       [-0.28081405, -1.44037507],\n",
       "       [ 0.50350449,  1.22017719],\n",
       "       [-1.06513258, -0.34145131],\n",
       "       [-0.08473441,  0.29476771],\n",
       "       [ 1.38586284,  0.58395817],\n",
       "       [-1.1631724 , -1.1511846 ],\n",
       "       [ 1.09174339,  0.46828198],\n",
       "       [ 1.87606192,  1.50936765],\n",
       "       [-0.37885386, -1.29577984],\n",
       "       [-0.28081405, -0.37037036],\n",
       "       [-0.37885386,  1.30693432],\n",
       "       [ 2.07214155,  0.52612008],\n",
       "       [ 0.69958412, -1.09334651],\n",
       "       [-0.86905295,  0.38152485],\n",
       "       [-1.1631724 ,  0.29476771],\n",
       "       [ 1.09174339, -1.2090227 ],\n",
       "       [-1.45729185, -1.44037507],\n",
       "       [-0.5749335 , -1.49821316],\n",
       "       [ 2.17018137, -0.80415605],\n",
       "       [-1.84945111,  0.17909152],\n",
       "       [-0.18277423,  0.84422958],\n",
       "       [-1.84945111, -1.26686079],\n",
       "       [ 2.17018137,  0.38152485],\n",
       "       [-1.35925203,  0.55503912],\n",
       "       [-1.06513258, -0.34145131],\n",
       "       [ 0.20938504, -0.65956082],\n",
       "       [ 0.40546467,  0.00557724],\n",
       "       [-0.5749335 ,  2.31910094],\n",
       "       [-0.28081405,  0.20801057],\n",
       "       [-1.55533166, -0.19685608],\n",
       "       [ 0.69958412, -1.38253697],\n",
       "       [-1.06513258,  0.55503912],\n",
       "       [-1.94749093,  0.3526058 ],\n",
       "       [ 0.40546467,  0.26584866],\n",
       "       [ 0.20938504, -0.28361322],\n",
       "       [ 1.48390265, -1.03550842],\n",
       "       [ 0.89566375,  1.07558195],\n",
       "       [ 1.97410174,  2.14558666],\n",
       "       [ 2.07214155,  0.38152485],\n",
       "       [-1.35925203, -0.42820845],\n",
       "       [-1.1631724 , -1.00658937],\n",
       "       [ 1.97410174, -0.91983223],\n",
       "       [ 0.40546467,  0.29476771],\n",
       "       [ 0.20938504,  0.15017248],\n",
       "       [ 2.07214155,  1.74072002],\n",
       "       [ 0.79762394, -0.8330751 ],\n",
       "       [ 0.30742485, -0.28361322],\n",
       "       [ 0.40546467, -0.16793703],\n",
       "       [-0.08473441,  2.20342476],\n",
       "       [-1.45729185, -0.63064177],\n",
       "       [-1.26121221, -1.06442747],\n",
       "       [-1.35925203,  0.41044389],\n",
       "       [-1.06513258,  0.75747245],\n",
       "       [-1.45729185, -0.19685608],\n",
       "       [ 0.99370357, -1.06442747],\n",
       "       [ 0.99370357,  0.58395817],\n",
       "       [ 0.40546467,  0.98882482],\n",
       "       [ 0.6015443 , -0.89091319],\n",
       "       [-0.5749335 ,  1.45152956],\n",
       "       [ 0.0133054 , -0.57280368],\n",
       "       [-0.5749335 ,  1.88531525],\n",
       "       [ 1.38586284, -1.41145602],\n",
       "       [ 1.48390265,  0.98882482],\n",
       "       [ 0.11134522, -0.80415605],\n",
       "       [ 0.0133054 , -0.25469417],\n",
       "       [-0.18277423, -0.57280368],\n",
       "       [-0.18277423, -0.19685608],\n",
       "       [-0.28081405, -1.29577984],\n",
       "       [-0.28081405, -0.57280368],\n",
       "       [ 0.40546467,  0.09233438],\n",
       "       [ 0.89566375, -0.60172273],\n",
       "       [ 2.07214155, -1.18010365],\n",
       "       [ 1.09174339, -0.13901799],\n",
       "       [ 0.69958412,  1.76963906],\n",
       "       [-0.67297331,  0.55503912],\n",
       "       [ 0.79762394,  0.3526058 ],\n",
       "       [ 0.89566375, -0.54388463]])"
      ]
     },
     "execution_count": 24,
     "metadata": {},
     "output_type": "execute_result"
    }
   ],
   "source": [
    "X_test_scaled"
   ]
  },
  {
   "cell_type": "code",
   "execution_count": 25,
   "id": "c441ae71",
   "metadata": {},
   "outputs": [
    {
     "data": {
      "text/plain": [
       "array([3.78642857e+01, 6.98071429e+04])"
      ]
     },
     "execution_count": 25,
     "metadata": {},
     "output_type": "execute_result"
    }
   ],
   "source": [
    "scaler.mean_"
   ]
  },
  {
   "cell_type": "markdown",
   "id": "0bd87368",
   "metadata": {},
   "source": [
    "### Since the datasets returned after scaling are numpy arrays so we have to convert them into Pandas dataframes"
   ]
  },
  {
   "cell_type": "code",
   "execution_count": 31,
   "id": "2a84d305",
   "metadata": {},
   "outputs": [],
   "source": [
    "X_train_scaled = pd.DataFrame(X_train_scaled, columns = X_train.columns)\n",
    "X_test_scaled = pd.DataFrame(X_test_scaled, columns = X_test.columns)"
   ]
  },
  {
   "cell_type": "code",
   "execution_count": 32,
   "id": "cd6a25a8",
   "metadata": {},
   "outputs": [
    {
     "data": {
      "text/html": [
       "<div>\n",
       "<style scoped>\n",
       "    .dataframe tbody tr th:only-of-type {\n",
       "        vertical-align: middle;\n",
       "    }\n",
       "\n",
       "    .dataframe tbody tr th {\n",
       "        vertical-align: top;\n",
       "    }\n",
       "\n",
       "    .dataframe thead th {\n",
       "        text-align: right;\n",
       "    }\n",
       "</style>\n",
       "<table border=\"1\" class=\"dataframe\">\n",
       "  <thead>\n",
       "    <tr style=\"text-align: right;\">\n",
       "      <th></th>\n",
       "      <th>Age</th>\n",
       "      <th>EstimatedSalary</th>\n",
       "    </tr>\n",
       "  </thead>\n",
       "  <tbody>\n",
       "    <tr>\n",
       "      <th>0</th>\n",
       "      <td>-1.163172</td>\n",
       "      <td>-1.584970</td>\n",
       "    </tr>\n",
       "    <tr>\n",
       "      <th>1</th>\n",
       "      <td>2.170181</td>\n",
       "      <td>0.930987</td>\n",
       "    </tr>\n",
       "    <tr>\n",
       "      <th>2</th>\n",
       "      <td>0.013305</td>\n",
       "      <td>1.220177</td>\n",
       "    </tr>\n",
       "    <tr>\n",
       "      <th>3</th>\n",
       "      <td>0.209385</td>\n",
       "      <td>1.075582</td>\n",
       "    </tr>\n",
       "    <tr>\n",
       "      <th>4</th>\n",
       "      <td>0.405465</td>\n",
       "      <td>-0.486047</td>\n",
       "    </tr>\n",
       "    <tr>\n",
       "      <th>...</th>\n",
       "      <td>...</td>\n",
       "      <td>...</td>\n",
       "    </tr>\n",
       "    <tr>\n",
       "      <th>275</th>\n",
       "      <td>0.993704</td>\n",
       "      <td>-1.151185</td>\n",
       "    </tr>\n",
       "    <tr>\n",
       "      <th>276</th>\n",
       "      <td>-0.869053</td>\n",
       "      <td>-0.775237</td>\n",
       "    </tr>\n",
       "    <tr>\n",
       "      <th>277</th>\n",
       "      <td>-0.182774</td>\n",
       "      <td>-0.514966</td>\n",
       "    </tr>\n",
       "    <tr>\n",
       "      <th>278</th>\n",
       "      <td>-1.065133</td>\n",
       "      <td>-0.457127</td>\n",
       "    </tr>\n",
       "    <tr>\n",
       "      <th>279</th>\n",
       "      <td>-1.163172</td>\n",
       "      <td>1.393691</td>\n",
       "    </tr>\n",
       "  </tbody>\n",
       "</table>\n",
       "<p>280 rows × 2 columns</p>\n",
       "</div>"
      ],
      "text/plain": [
       "          Age  EstimatedSalary\n",
       "0   -1.163172        -1.584970\n",
       "1    2.170181         0.930987\n",
       "2    0.013305         1.220177\n",
       "3    0.209385         1.075582\n",
       "4    0.405465        -0.486047\n",
       "..        ...              ...\n",
       "275  0.993704        -1.151185\n",
       "276 -0.869053        -0.775237\n",
       "277 -0.182774        -0.514966\n",
       "278 -1.065133        -0.457127\n",
       "279 -1.163172         1.393691\n",
       "\n",
       "[280 rows x 2 columns]"
      ]
     },
     "execution_count": 32,
     "metadata": {},
     "output_type": "execute_result"
    }
   ],
   "source": [
    "X_train_scaled"
   ]
  },
  {
   "cell_type": "code",
   "execution_count": 38,
   "id": "5f002c9e",
   "metadata": {},
   "outputs": [
    {
     "data": {
      "text/html": [
       "<div>\n",
       "<style scoped>\n",
       "    .dataframe tbody tr th:only-of-type {\n",
       "        vertical-align: middle;\n",
       "    }\n",
       "\n",
       "    .dataframe tbody tr th {\n",
       "        vertical-align: top;\n",
       "    }\n",
       "\n",
       "    .dataframe thead th {\n",
       "        text-align: right;\n",
       "    }\n",
       "</style>\n",
       "<table border=\"1\" class=\"dataframe\">\n",
       "  <thead>\n",
       "    <tr style=\"text-align: right;\">\n",
       "      <th></th>\n",
       "      <th>Age</th>\n",
       "      <th>EstimatedSalary</th>\n",
       "    </tr>\n",
       "  </thead>\n",
       "  <tbody>\n",
       "    <tr>\n",
       "      <th>count</th>\n",
       "      <td>280.0</td>\n",
       "      <td>280.0</td>\n",
       "    </tr>\n",
       "    <tr>\n",
       "      <th>mean</th>\n",
       "      <td>0.0</td>\n",
       "      <td>0.0</td>\n",
       "    </tr>\n",
       "    <tr>\n",
       "      <th>std</th>\n",
       "      <td>1.0</td>\n",
       "      <td>1.0</td>\n",
       "    </tr>\n",
       "    <tr>\n",
       "      <th>min</th>\n",
       "      <td>-1.9</td>\n",
       "      <td>-1.6</td>\n",
       "    </tr>\n",
       "    <tr>\n",
       "      <th>25%</th>\n",
       "      <td>-0.8</td>\n",
       "      <td>-0.8</td>\n",
       "    </tr>\n",
       "    <tr>\n",
       "      <th>50%</th>\n",
       "      <td>-0.1</td>\n",
       "      <td>0.0</td>\n",
       "    </tr>\n",
       "    <tr>\n",
       "      <th>75%</th>\n",
       "      <td>0.8</td>\n",
       "      <td>0.5</td>\n",
       "    </tr>\n",
       "    <tr>\n",
       "      <th>max</th>\n",
       "      <td>2.2</td>\n",
       "      <td>2.3</td>\n",
       "    </tr>\n",
       "  </tbody>\n",
       "</table>\n",
       "</div>"
      ],
      "text/plain": [
       "         Age  EstimatedSalary\n",
       "count  280.0            280.0\n",
       "mean     0.0              0.0\n",
       "std      1.0              1.0\n",
       "min     -1.9             -1.6\n",
       "25%     -0.8             -0.8\n",
       "50%     -0.1              0.0\n",
       "75%      0.8              0.5\n",
       "max      2.2              2.3"
      ]
     },
     "execution_count": 38,
     "metadata": {},
     "output_type": "execute_result"
    }
   ],
   "source": [
    "np.round(X_train_scaled.describe(),1)"
   ]
  },
  {
   "cell_type": "markdown",
   "id": "248cd95e",
   "metadata": {},
   "source": [
    "## Visual representation of the effect of scaling"
   ]
  },
  {
   "cell_type": "code",
   "execution_count": 43,
   "id": "9994fcbd",
   "metadata": {},
   "outputs": [
    {
     "data": {
      "image/png": "[encoded data removed]",
      "text/plain": [
       "<Figure size 1080x504 with 2 Axes>"
      ]
     },
     "metadata": {
      "needs_background": "light"
     },
     "output_type": "display_data"
    }
   ],
   "source": [
    "fig, (ax1,ax2) = plt.subplots(ncols = 2, figsize = (15,7))\n",
    "\n",
    "ax1.scatter(X_train[\"Age\"], X_train[\"EstimatedSalary\"])\n",
    "ax1.set_title(\"Before Scaling\")\n",
    "\n",
    "ax2.scatter(X_train_scaled[\"Age\"], X_train_scaled[\"EstimatedSalary\"], color = \"orange\")\n",
    "ax2.set_title(\"After Scaling\")\n",
    "plt.show()"
   ]
  },
  {
   "cell_type": "markdown",
   "id": "8959aae6",
   "metadata": {},
   "source": [
    "## Conclusion from the above visualization"
   ]
  },
  {
   "cell_type": "markdown",
   "id": "f1a6b536",
   "metadata": {},
   "source": [
    "Scaling only shrinks the data but the original shape of the data remains the same"
   ]
  },
  {
   "cell_type": "markdown",
   "id": "d8fa571b",
   "metadata": {},
   "source": [
    "## In order to visualize the benefit of scaling we use kernal density estimation"
   ]
  },
  {
   "cell_type": "code",
   "execution_count": 51,
   "id": "1afb2ea4",
   "metadata": {},
   "outputs": [
    {
     "data": {
      "text/plain": [
       "[]"
      ]
     },
     "execution_count": 51,
     "metadata": {},
     "output_type": "execute_result"
    },
    {
     "data": {
      "image/png": "[encoded data removed]",
      "text/plain": [
       "<Figure size 1080x504 with 2 Axes>"
      ]
     },
     "metadata": {
      "needs_background": "light"
     },
     "output_type": "display_data"
    }
   ],
   "source": [
    "fig, (ax1,ax2) = plt.subplots(ncols = 2, figsize = (15,7))\n",
    "\n",
    "# before scaling\n",
    "\n",
    "ax1.set_title(\"Before Scaling\")\n",
    "sns.kdeplot(X_train[\"Age\"], ax = ax1)\n",
    "sns.kdeplot(X_train[\"EstimatedSalary\"], ax = ax1)\n",
    "\n",
    "# after scaling\n",
    "\n",
    "ax2.set_title(\"After Standard Scaling\")\n",
    "sns.kdeplot(X_train_scaled[\"Age\"], ax = ax2)\n",
    "sns.kdeplot(X_train_scaled[\"EstimatedSalary\"], ax = ax2)\n",
    "\n",
    "plt.plot()"
   ]
  },
  {
   "cell_type": "markdown",
   "id": "7929f78b",
   "metadata": {},
   "source": [
    "### From th above visualization we can understand that after scaling both the features are comparable to each other and as a result of which we can do many operations on it"
   ]
  },
  {
   "cell_type": "markdown",
   "id": "6cba21d5",
   "metadata": {},
   "source": [
    "## Now lets check whether the shape of the distribution changes upon scaling"
   ]
  },
  {
   "cell_type": "code",
   "execution_count": 56,
   "id": "176c8d0d",
   "metadata": {},
   "outputs": [
    {
     "data": {
      "image/png": "[encoded data removed]",
      "text/plain": [
       "<Figure size 864x504 with 2 Axes>"
      ]
     },
     "metadata": {
      "needs_background": "light"
     },
     "output_type": "display_data"
    }
   ],
   "source": [
    "fig, (ax1,ax2) = plt.subplots(ncols = 2, figsize = (12,7))\n",
    "\n",
    "# Before Scaling\n",
    "\n",
    "ax1.set_title(\"Before scaling\")\n",
    "sns.kdeplot(X_train[\"Age\"], ax = ax1)\n",
    "\n",
    "#After Scaling\n",
    "\n",
    "ax1.set_title(\"After Standard scaling\")\n",
    "sns.kdeplot(X_train_scaled[\"Age\"], ax = ax2)\n",
    "\n",
    "plt.show()"
   ]
  },
  {
   "cell_type": "markdown",
   "id": "10c792e9",
   "metadata": {},
   "source": [
    "### From the above visualization we can conclude that shape of visualization remains same upon scaling"
   ]
  },
  {
   "cell_type": "markdown",
   "id": "fd96e7f0",
   "metadata": {},
   "source": [
    "# Section 2"
   ]
  },
  {
   "cell_type": "markdown",
   "id": "fc9570e0",
   "metadata": {},
   "source": [
    "## Lets understand the effect of outliers on Standard Scaling"
   ]
  },
  {
   "cell_type": "code",
   "execution_count": 57,
   "id": "c0f2b8bc",
   "metadata": {},
   "outputs": [],
   "source": [
    "modified_data = data"
   ]
  },
  {
   "cell_type": "code",
   "execution_count": 60,
   "id": "ff7b7dcc",
   "metadata": {},
   "outputs": [
    {
     "data": {
      "text/html": [
       "<div>\n",
       "<style scoped>\n",
       "    .dataframe tbody tr th:only-of-type {\n",
       "        vertical-align: middle;\n",
       "    }\n",
       "\n",
       "    .dataframe tbody tr th {\n",
       "        vertical-align: top;\n",
       "    }\n",
       "\n",
       "    .dataframe thead th {\n",
       "        text-align: right;\n",
       "    }\n",
       "</style>\n",
       "<table border=\"1\" class=\"dataframe\">\n",
       "  <thead>\n",
       "    <tr style=\"text-align: right;\">\n",
       "      <th></th>\n",
       "      <th>Age</th>\n",
       "      <th>EstimatedSalary</th>\n",
       "      <th>Purchased</th>\n",
       "    </tr>\n",
       "  </thead>\n",
       "  <tbody>\n",
       "    <tr>\n",
       "      <th>count</th>\n",
       "      <td>400.0</td>\n",
       "      <td>400.0</td>\n",
       "      <td>400.0</td>\n",
       "    </tr>\n",
       "    <tr>\n",
       "      <th>mean</th>\n",
       "      <td>37.7</td>\n",
       "      <td>69742.5</td>\n",
       "      <td>0.4</td>\n",
       "    </tr>\n",
       "    <tr>\n",
       "      <th>std</th>\n",
       "      <td>10.5</td>\n",
       "      <td>34097.0</td>\n",
       "      <td>0.5</td>\n",
       "    </tr>\n",
       "    <tr>\n",
       "      <th>min</th>\n",
       "      <td>18.0</td>\n",
       "      <td>15000.0</td>\n",
       "      <td>0.0</td>\n",
       "    </tr>\n",
       "    <tr>\n",
       "      <th>25%</th>\n",
       "      <td>29.8</td>\n",
       "      <td>43000.0</td>\n",
       "      <td>0.0</td>\n",
       "    </tr>\n",
       "    <tr>\n",
       "      <th>50%</th>\n",
       "      <td>37.0</td>\n",
       "      <td>70000.0</td>\n",
       "      <td>0.0</td>\n",
       "    </tr>\n",
       "    <tr>\n",
       "      <th>75%</th>\n",
       "      <td>46.0</td>\n",
       "      <td>88000.0</td>\n",
       "      <td>1.0</td>\n",
       "    </tr>\n",
       "    <tr>\n",
       "      <th>max</th>\n",
       "      <td>60.0</td>\n",
       "      <td>150000.0</td>\n",
       "      <td>1.0</td>\n",
       "    </tr>\n",
       "  </tbody>\n",
       "</table>\n",
       "</div>"
      ],
      "text/plain": [
       "         Age  EstimatedSalary  Purchased\n",
       "count  400.0            400.0      400.0\n",
       "mean    37.7          69742.5        0.4\n",
       "std     10.5          34097.0        0.5\n",
       "min     18.0          15000.0        0.0\n",
       "25%     29.8          43000.0        0.0\n",
       "50%     37.0          70000.0        0.0\n",
       "75%     46.0          88000.0        1.0\n",
       "max     60.0         150000.0        1.0"
      ]
     },
     "execution_count": 60,
     "metadata": {},
     "output_type": "execute_result"
    }
   ],
   "source": [
    "np.round(modified_data.describe(),1)"
   ]
  },
  {
   "cell_type": "markdown",
   "id": "882245db",
   "metadata": {},
   "source": [
    "### Add some outliers to the above dataset"
   ]
  },
  {
   "cell_type": "code",
   "execution_count": 83,
   "id": "2096b7c9",
   "metadata": {},
   "outputs": [],
   "source": [
    "dict = {\"Age\": [2,105,100],\"EstimatedSalary\":[1000,00000,500],\"Purchased\":[0,1,0]}"
   ]
  },
  {
   "cell_type": "code",
   "execution_count": 84,
   "id": "7c5d3522",
   "metadata": {},
   "outputs": [],
   "source": [
    "new = pd.DataFrame(dict)"
   ]
  },
  {
   "cell_type": "code",
   "execution_count": 85,
   "id": "ec08fbcc",
   "metadata": {},
   "outputs": [
    {
     "data": {
      "text/html": [
       "<div>\n",
       "<style scoped>\n",
       "    .dataframe tbody tr th:only-of-type {\n",
       "        vertical-align: middle;\n",
       "    }\n",
       "\n",
       "    .dataframe tbody tr th {\n",
       "        vertical-align: top;\n",
       "    }\n",
       "\n",
       "    .dataframe thead th {\n",
       "        text-align: right;\n",
       "    }\n",
       "</style>\n",
       "<table border=\"1\" class=\"dataframe\">\n",
       "  <thead>\n",
       "    <tr style=\"text-align: right;\">\n",
       "      <th></th>\n",
       "      <th>Age</th>\n",
       "      <th>EstimatedSalary</th>\n",
       "      <th>Purchased</th>\n",
       "    </tr>\n",
       "  </thead>\n",
       "  <tbody>\n",
       "    <tr>\n",
       "      <th>0</th>\n",
       "      <td>2</td>\n",
       "      <td>1000</td>\n",
       "      <td>0</td>\n",
       "    </tr>\n",
       "    <tr>\n",
       "      <th>1</th>\n",
       "      <td>105</td>\n",
       "      <td>100000</td>\n",
       "      <td>1</td>\n",
       "    </tr>\n",
       "    <tr>\n",
       "      <th>2</th>\n",
       "      <td>100</td>\n",
       "      <td>500</td>\n",
       "      <td>0</td>\n",
       "    </tr>\n",
       "  </tbody>\n",
       "</table>\n",
       "</div>"
      ],
      "text/plain": [
       "   Age  EstimatedSalary  Purchased\n",
       "0    2             1000          0\n",
       "1  105           100000          1\n",
       "2  100              500          0"
      ]
     },
     "execution_count": 85,
     "metadata": {},
     "output_type": "execute_result"
    }
   ],
   "source": [
    "new"
   ]
  },
  {
   "cell_type": "code",
   "execution_count": 86,
   "id": "dcc6674e",
   "metadata": {},
   "outputs": [],
   "source": [
    "modified_data = modified_data.append(new)"
   ]
  },
  {
   "cell_type": "code",
   "execution_count": 87,
   "id": "486a4718",
   "metadata": {},
   "outputs": [
    {
     "data": {
      "text/plain": [
       "(409, 3)"
      ]
     },
     "execution_count": 87,
     "metadata": {},
     "output_type": "execute_result"
    }
   ],
   "source": [
    "modified_data.shape"
   ]
  },
  {
   "cell_type": "markdown",
   "id": "9a5a2737",
   "metadata": {},
   "source": [
    "### Train Test Split"
   ]
  },
  {
   "cell_type": "code",
   "execution_count": 88,
   "id": "4e1f749f",
   "metadata": {},
   "outputs": [
    {
     "data": {
      "text/plain": [
       "<matplotlib.collections.PathCollection at 0x20173d9c1f0>"
      ]
     },
     "execution_count": 88,
     "metadata": {},
     "output_type": "execute_result"
    },
    {
     "data": {
      "image/png": "[encoded data removed]",
      "text/plain": [
       "<Figure size 432x288 with 1 Axes>"
      ]
     },
     "metadata": {
      "needs_background": "light"
     },
     "output_type": "display_data"
    }
   ],
   "source": [
    "plt.scatter(data[\"Age\"], data[\"EstimatedSalary\"])"
   ]
  },
  {
   "cell_type": "code",
   "execution_count": 89,
   "id": "18f8f995",
   "metadata": {},
   "outputs": [
    {
     "data": {
      "text/plain": [
       "<matplotlib.collections.PathCollection at 0x201732c10a0>"
      ]
     },
     "execution_count": 89,
     "metadata": {},
     "output_type": "execute_result"
    },
    {
     "data": {
      "image/png": "[encoded data removed]",
      "text/plain": [
       "<Figure size 432x288 with 1 Axes>"
      ]
     },
     "metadata": {
      "needs_background": "light"
     },
     "output_type": "display_data"
    }
   ],
   "source": [
    "plt.scatter(modified_data[\"Age\"], modified_data[\"EstimatedSalary\"], color = \"orange\")"
   ]
  },
  {
   "cell_type": "raw",
   "id": "9910432e",
   "metadata": {},
   "source": [
    "x_train,x_test,y_train,y_test = train_test_split(modified_data.drop(\"Purchased\", axis = 1), modified_data[\"Purchased\"], random_state = 0)"
   ]
  },
  {
   "cell_type": "code",
   "execution_count": 105,
   "id": "389bf566",
   "metadata": {},
   "outputs": [
    {
     "data": {
      "text/html": [
       "<div>\n",
       "<style scoped>\n",
       "    .dataframe tbody tr th:only-of-type {\n",
       "        vertical-align: middle;\n",
       "    }\n",
       "\n",
       "    .dataframe tbody tr th {\n",
       "        vertical-align: top;\n",
       "    }\n",
       "\n",
       "    .dataframe thead th {\n",
       "        text-align: right;\n",
       "    }\n",
       "</style>\n",
       "<table border=\"1\" class=\"dataframe\">\n",
       "  <thead>\n",
       "    <tr style=\"text-align: right;\">\n",
       "      <th></th>\n",
       "      <th>Age</th>\n",
       "      <th>EstimatedSalary</th>\n",
       "    </tr>\n",
       "  </thead>\n",
       "  <tbody>\n",
       "    <tr>\n",
       "      <th>264</th>\n",
       "      <td>48</td>\n",
       "      <td>90000</td>\n",
       "    </tr>\n",
       "    <tr>\n",
       "      <th>218</th>\n",
       "      <td>46</td>\n",
       "      <td>96000</td>\n",
       "    </tr>\n",
       "    <tr>\n",
       "      <th>271</th>\n",
       "      <td>59</td>\n",
       "      <td>76000</td>\n",
       "    </tr>\n",
       "    <tr>\n",
       "      <th>235</th>\n",
       "      <td>46</td>\n",
       "      <td>79000</td>\n",
       "    </tr>\n",
       "    <tr>\n",
       "      <th>106</th>\n",
       "      <td>26</td>\n",
       "      <td>35000</td>\n",
       "    </tr>\n",
       "    <tr>\n",
       "      <th>...</th>\n",
       "      <td>...</td>\n",
       "      <td>...</td>\n",
       "    </tr>\n",
       "    <tr>\n",
       "      <th>323</th>\n",
       "      <td>48</td>\n",
       "      <td>30000</td>\n",
       "    </tr>\n",
       "    <tr>\n",
       "      <th>192</th>\n",
       "      <td>29</td>\n",
       "      <td>43000</td>\n",
       "    </tr>\n",
       "    <tr>\n",
       "      <th>117</th>\n",
       "      <td>36</td>\n",
       "      <td>52000</td>\n",
       "    </tr>\n",
       "    <tr>\n",
       "      <th>47</th>\n",
       "      <td>27</td>\n",
       "      <td>54000</td>\n",
       "    </tr>\n",
       "    <tr>\n",
       "      <th>172</th>\n",
       "      <td>26</td>\n",
       "      <td>118000</td>\n",
       "    </tr>\n",
       "  </tbody>\n",
       "</table>\n",
       "<p>306 rows × 2 columns</p>\n",
       "</div>"
      ],
      "text/plain": [
       "     Age  EstimatedSalary\n",
       "264   48            90000\n",
       "218   46            96000\n",
       "271   59            76000\n",
       "235   46            79000\n",
       "106   26            35000\n",
       "..   ...              ...\n",
       "323   48            30000\n",
       "192   29            43000\n",
       "117   36            52000\n",
       "47    27            54000\n",
       "172   26           118000\n",
       "\n",
       "[306 rows x 2 columns]"
      ]
     },
     "execution_count": 105,
     "metadata": {},
     "output_type": "execute_result"
    }
   ],
   "source": [
    "x_train"
   ]
  },
  {
   "cell_type": "markdown",
   "id": "2fb5cfd7",
   "metadata": {},
   "source": [
    "## Standardization of data"
   ]
  },
  {
   "cell_type": "code",
   "execution_count": 109,
   "id": "2f986ab8",
   "metadata": {},
   "outputs": [
    {
     "data": {
      "text/plain": [
       "array([[ 6.55501034e-01,  2.57930635e-01],\n",
       "       [ 5.10518514e-01,  3.48184236e-01],\n",
       "       [ 1.45290489e+00,  4.73388987e-02],\n",
       "       [ 5.10518514e-01,  9.24656993e-02],\n",
       "       [-9.39306686e-01, -5.69394043e-01],\n",
       "       [-1.41902826e-01,  3.22966318e-02],\n",
       "       [-5.04359126e-01,  7.09198641e-01],\n",
       "       [-2.14394086e-01,  1.07021305e+00],\n",
       "       [ 4.38027254e-01, -6.14520843e-01],\n",
       "       [ 5.83009774e-01, -3.28717773e-01],\n",
       "       [-6.94115660e-02, -1.78295104e-01],\n",
       "       [ 3.07969405e-03, -4.64098175e-01],\n",
       "       [-8.66815426e-01,  2.42888368e-01],\n",
       "       [ 7.55709541e-02, -2.78724357e-02],\n",
       "       [ 7.55709541e-02,  3.22966318e-02],\n",
       "       [-7.94324166e-01, -2.68548705e-01],\n",
       "       [-2.86885346e-01, -7.19816711e-01],\n",
       "       [ 1.52539615e+00, -4.03929107e-01],\n",
       "       [-2.86885346e-01, -3.43760040e-01],\n",
       "       [ 3.07969405e-03,  3.48184236e-01],\n",
       "       [ 5.83009774e-01, -3.58802307e-01],\n",
       "       [ 4.78750286e+00,  1.39463935e+01],\n",
       "       [-1.41902826e-01, -2.98633239e-01],\n",
       "       [-1.37425425e+00,  1.37592500e-01],\n",
       "       [-5.76850386e-01,  2.42888368e-01],\n",
       "       [ 1.30792237e+00,  7.39283174e-01],\n",
       "       [ 1.48062214e-01,  1.07507966e-01],\n",
       "       [-9.39306686e-01, -8.70239380e-01],\n",
       "       [ 7.55709541e-02,  5.13649171e-01],\n",
       "       [ 1.45290489e+00, -4.64098175e-01],\n",
       "       [ 4.42504656e+00, -1.08835225e+00],\n",
       "       [ 7.55709541e-02, -3.88886840e-01],\n",
       "       [-2.14394086e-01,  7.84409975e-01],\n",
       "       [-1.08428921e+00, -8.10070313e-01],\n",
       "       [-2.86885346e-01,  3.63226503e-01],\n",
       "       [-1.30176299e+00,  2.27846101e-01],\n",
       "       [-7.94324166e-01, -2.08379638e-01],\n",
       "       [ 9.45466074e-01,  9.79959444e-01],\n",
       "       [-2.86885346e-01, -5.09224975e-01],\n",
       "       [-6.94115660e-02,  6.03902773e-01],\n",
       "       [ 4.38027254e-01, -7.04774445e-01],\n",
       "       [ 2.93044734e-01,  5.88860506e-01],\n",
       "       [ 4.42504656e+00, -1.08835225e+00],\n",
       "       [-5.76850386e-01,  1.72543649e-02],\n",
       "       [ 2.20553474e-01,  1.07507966e-01],\n",
       "       [ 2.20553474e-01,  9.24656993e-02],\n",
       "       [-4.31867866e-01,  1.14542438e+00],\n",
       "       [-1.44674551e+00, -7.04774445e-01],\n",
       "       [ 8.00483554e-01, -4.34013641e-01],\n",
       "       [-4.31867866e-01, -5.79569694e-02],\n",
       "       [-2.86885346e-01,  3.22966318e-02],\n",
       "       [ 3.07969405e-03,  7.39283174e-01],\n",
       "       [-2.14394086e-01,  3.22966318e-02],\n",
       "       [-1.08428921e+00,  1.67677034e-01],\n",
       "       [-6.94115660e-02, -1.78295104e-01],\n",
       "       [-2.86885346e-01, -1.93337371e-01],\n",
       "       [-1.37425425e+00,  1.37592500e-01],\n",
       "       [ 9.45466074e-01, -7.79985779e-01],\n",
       "       [ 2.20553474e-01, -1.18126037e-01],\n",
       "       [-2.14394086e-01, -1.93337371e-01],\n",
       "       [ 5.83009774e-01,  6.03902773e-01],\n",
       "       [-1.41902826e-01,  7.74234324e-02],\n",
       "       [-1.30176299e+00, -7.29992363e-02],\n",
       "       [-7.94324166e-01, -4.34013641e-01],\n",
       "       [ 3.07969405e-03, -2.78724357e-02],\n",
       "       [-1.41902826e-01, -5.99478576e-01],\n",
       "       [-8.66815426e-01,  2.57930635e-01],\n",
       "       [-2.86885346e-01,  2.72972902e-01],\n",
       "       [-7.94324166e-01,  7.54325441e-01],\n",
       "       [-5.76850386e-01,  6.79114107e-01],\n",
       "       [-1.01179795e+00,  2.12803834e-01],\n",
       "       [-2.86885346e-01, -2.78724357e-02],\n",
       "       [-3.59376606e-01, -4.49055908e-01],\n",
       "       [-2.86885346e-01, -7.64943512e-01],\n",
       "       [ 1.16293985e+00,  8.59621309e-01],\n",
       "       [-2.67909693e+00, -1.08083112e+00],\n",
       "       [ 1.01795733e+00,  1.05517078e+00],\n",
       "       [ 1.52539615e+00,  5.28691438e-01],\n",
       "       [-9.39306686e-01,  1.97761567e-01],\n",
       "       [ 7.27992294e-01,  1.02508624e+00],\n",
       "       [-1.01179795e+00,  9.24656993e-02],\n",
       "       [ 5.83009774e-01,  5.13649171e-01],\n",
       "       [-9.39306686e-01,  1.07507966e-01],\n",
       "       [ 7.27992294e-01,  1.97761567e-01],\n",
       "       [-4.31867866e-01,  6.03902773e-01],\n",
       "       [-6.49341646e-01,  5.13649171e-01],\n",
       "       [ 6.55501034e-01, -5.99478576e-01],\n",
       "       [ 2.20553474e-01,  1.14542438e+00],\n",
       "       [ 7.55709541e-02,  7.74234324e-02],\n",
       "       [-5.76850386e-01, -8.25112579e-01],\n",
       "       [-5.76850386e-01, -2.78724357e-02],\n",
       "       [ 2.20553474e-01,  2.21209807e-03],\n",
       "       [ 9.45466074e-01, -5.24267242e-01],\n",
       "       [-1.51923677e+00, -4.34013641e-01],\n",
       "       [ 7.27992294e-01, -5.09224975e-01],\n",
       "       [ 1.01795733e+00, -5.84436310e-01],\n",
       "       [ 5.83009774e-01, -6.44605377e-01],\n",
       "       [-9.39306686e-01, -4.49055908e-01],\n",
       "       [-1.41902826e-01,  6.23811655e-02],\n",
       "       [ 5.10518514e-01, -2.08379638e-01],\n",
       "       [ 1.45290489e+00,  1.05517078e+00],\n",
       "       [ 1.23543111e+00, -1.93337371e-01],\n",
       "       [-2.86885346e-01,  1.11533985e+00],\n",
       "       [-7.94324166e-01, -2.08379638e-01],\n",
       "       [ 8.72974814e-01,  1.10029758e+00],\n",
       "       [ 1.45290489e+00,  8.59621309e-01],\n",
       "       [-1.41902826e-01, -4.29147025e-02],\n",
       "       [-1.41902826e-01, -1.63252837e-01],\n",
       "       [ 1.09044859e+00,  4.68522371e-01],\n",
       "       [ 1.09044859e+00, -7.04774445e-01],\n",
       "       [-2.86885346e-01, -6.89732178e-01],\n",
       "       [ 1.38041363e+00,  4.23395570e-01],\n",
       "       [ 1.52539615e+00, -4.64098175e-01],\n",
       "       [ 6.55501034e-01,  3.48184236e-01],\n",
       "       [-1.15678047e+00,  1.37592500e-01],\n",
       "       [ 5.10518514e-01, -7.49901245e-01],\n",
       "       [ 1.30792237e+00, -7.04774445e-01],\n",
       "       [ 7.27992294e-01, -1.18126037e-01],\n",
       "       [-7.94324166e-01,  1.67677034e-01],\n",
       "       [ 3.65535994e-01, -5.09224975e-01],\n",
       "       [ 1.52539615e+00,  4.38437837e-01],\n",
       "       [-9.39306686e-01,  1.67677034e-01],\n",
       "       [-7.21832906e-01, -6.74689911e-01],\n",
       "       [-1.41902826e-01, -2.78724357e-02],\n",
       "       [-1.22927173e+00, -2.68548705e-01],\n",
       "       [ 3.07969405e-03,  2.21209807e-03],\n",
       "       [ 4.78750286e+00,  4.92103336e+00],\n",
       "       [-2.86885346e-01, -1.78295104e-01],\n",
       "       [-8.66815426e-01, -8.40154846e-01],\n",
       "       [ 5.10518514e-01, -6.74689911e-01],\n",
       "       [-6.94115660e-02, -3.43760040e-01],\n",
       "       [-9.39306686e-01, -8.40154846e-01],\n",
       "       [ 1.01795733e+00, -1.28301688e-02],\n",
       "       [ 4.38027254e-01,  8.74663576e-01],\n",
       "       [-1.08428921e+00, -6.89732178e-01],\n",
       "       [-5.04359126e-01, -8.25112579e-01],\n",
       "       [ 1.09044859e+00,  5.28691438e-01],\n",
       "       [-2.86885346e-01, -2.23421905e-01],\n",
       "       [ 3.07969405e-03, -2.08379638e-01],\n",
       "       [-2.67909693e+00, -1.08083112e+00],\n",
       "       [ 7.55709541e-02, -1.28301688e-02],\n",
       "       [-5.04359126e-01,  4.08353303e-01],\n",
       "       [-1.44674551e+00, -7.79985779e-01],\n",
       "       [-1.01179795e+00,  2.57930635e-01],\n",
       "       [-2.86885346e-01,  2.27846101e-01],\n",
       "       [-7.94324166e-01, -6.14520843e-01],\n",
       "       [-2.67909693e+00, -1.08083112e+00],\n",
       "       [ 7.55709541e-02, -2.08379638e-01],\n",
       "       [ 1.38041363e+00,  1.07021305e+00],\n",
       "       [-2.86885346e-01, -1.28301688e-02],\n",
       "       [ 7.55709541e-02,  1.04012851e+00],\n",
       "       [ 1.30792237e+00, -5.99478576e-01],\n",
       "       [ 3.07969405e-03, -2.78724357e-02],\n",
       "       [-1.37425425e+00,  1.72543649e-02],\n",
       "       [-5.76850386e-01,  4.73388987e-02],\n",
       "       [ 5.83009774e-01, -7.19816711e-01],\n",
       "       [-6.94115660e-02, -2.78724357e-02],\n",
       "       [-6.94115660e-02,  1.07507966e-01],\n",
       "       [ 6.55501034e-01,  9.79959444e-01],\n",
       "       [-1.44674551e+00, -7.19816711e-01],\n",
       "       [-1.41902826e-01,  1.07507966e-01],\n",
       "       [-2.86885346e-01,  6.23811655e-02],\n",
       "       [-2.14394086e-01,  6.79114107e-01],\n",
       "       [ 1.48062214e-01, -3.13675506e-01],\n",
       "       [-2.86885346e-01, -2.68548705e-01],\n",
       "       [ 6.55501034e-01, -6.59647644e-01],\n",
       "       [ 7.55709541e-02, -1.78295104e-01],\n",
       "       [-2.14394086e-01,  7.99452242e-01],\n",
       "       [ 3.07969405e-03,  3.22966318e-02],\n",
       "       [-8.66815426e-01, -2.38464172e-01],\n",
       "       [ 6.55501034e-01,  1.02508624e+00],\n",
       "       [ 3.07969405e-03, -1.78295104e-01],\n",
       "       [-1.22927173e+00, -6.89732178e-01],\n",
       "       [-4.31867866e-01, -1.93337371e-01],\n",
       "       [-6.94115660e-02, -3.43760040e-01],\n",
       "       [ 5.83009774e-01, -5.84436310e-01],\n",
       "       [ 1.30792237e+00,  1.72543649e-02],\n",
       "       [ 1.52539615e+00, -5.84436310e-01],\n",
       "       [-5.04359126e-01,  6.64071840e-01],\n",
       "       [ 1.45290489e+00, -6.59647644e-01],\n",
       "       [-6.49341646e-01,  1.07507966e-01],\n",
       "       [ 1.38041363e+00,  3.33141969e-01],\n",
       "       [-9.39306686e-01, -3.13675506e-01],\n",
       "       [ 8.72974814e-01,  9.19790377e-01],\n",
       "       [-1.08428921e+00, -2.68548705e-01],\n",
       "       [ 7.55709541e-02,  3.22966318e-02],\n",
       "       [-4.31867866e-01, -6.74689911e-01],\n",
       "       [ 5.83009774e-01, -7.49901245e-01],\n",
       "       [-1.22927173e+00, -8.25112579e-01],\n",
       "       [-4.31867866e-01, -3.28717773e-01],\n",
       "       [ 2.93044734e-01,  9.04748110e-01],\n",
       "       [-1.08428921e+00, -6.14520843e-01],\n",
       "       [ 5.10518514e-01, -7.64943512e-01],\n",
       "       [ 1.48062214e-01, -1.28301688e-02],\n",
       "       [ 1.48062214e-01, -1.93337371e-01],\n",
       "       [ 1.01795733e+00,  4.68522371e-01],\n",
       "       [-2.86885346e-01, -2.98633239e-01],\n",
       "       [-1.41902826e-01,  1.07021305e+00],\n",
       "       [-1.15678047e+00, -1.03083770e-01],\n",
       "       [ 2.20553474e-01, -4.29147025e-02],\n",
       "       [-5.76850386e-01, -2.23421905e-01],\n",
       "       [-4.31867866e-01, -4.79140442e-01],\n",
       "       [ 4.38027254e-01, -7.64943512e-01],\n",
       "       [-6.49341646e-01, -8.70239380e-01],\n",
       "       [-1.44674551e+00, -8.10070313e-01],\n",
       "       [ 7.27992294e-01,  1.72543649e-02],\n",
       "       [ 3.07969405e-03,  6.23811655e-02],\n",
       "       [-2.86885346e-01,  2.21209807e-03],\n",
       "       [ 7.55709541e-02, -1.93337371e-01],\n",
       "       [ 8.72974814e-01, -7.49901245e-01],\n",
       "       [-1.08428921e+00, -7.49901245e-01],\n",
       "       [ 1.48062214e-01, -1.28301688e-02],\n",
       "       [-7.21832906e-01,  1.52634767e-01],\n",
       "       [ 1.48062214e-01,  2.12803834e-01],\n",
       "       [-2.86885346e-01, -4.34013641e-01],\n",
       "       [ 2.93044734e-01,  8.44579042e-01],\n",
       "       [-7.21832906e-01, -3.88886840e-01],\n",
       "       [-5.76850386e-01, -7.29992363e-02],\n",
       "       [ 2.20553474e-01, -2.83590972e-01],\n",
       "       [-6.49341646e-01,  9.34832644e-01],\n",
       "       [ 9.45466074e-01,  6.18945039e-01],\n",
       "       [ 8.00483554e-01, -5.54351776e-01],\n",
       "       [ 1.23543111e+00,  9.04748110e-01],\n",
       "       [-7.21832906e-01, -1.78295104e-01],\n",
       "       [-6.49341646e-01,  2.42888368e-01],\n",
       "       [-9.39306686e-01, -8.55197113e-01],\n",
       "       [-4.31867866e-01, -6.29563110e-01],\n",
       "       [ 1.38041363e+00, -3.88886840e-01],\n",
       "       [ 4.78750286e+00,  4.08353303e-01],\n",
       "       [ 1.16293985e+00,  7.84409975e-01],\n",
       "       [ 6.55501034e-01,  8.74663576e-01],\n",
       "       [ 1.48062214e-01, -2.78724357e-02],\n",
       "       [-6.49341646e-01, -1.63252837e-01],\n",
       "       [-1.41902826e-01, -1.28301688e-02],\n",
       "       [-2.14394086e-01,  3.93311037e-01],\n",
       "       [ 5.10518514e-01, -6.14520843e-01],\n",
       "       [-6.49341646e-01,  6.49029573e-01],\n",
       "       [-1.37425425e+00, -3.58802307e-01],\n",
       "       [-1.41902826e-01,  1.72543649e-02],\n",
       "       [ 1.48062214e-01, -2.08379638e-01],\n",
       "       [ 7.27992294e-01,  2.42888368e-01],\n",
       "       [-7.94324166e-01,  9.24656993e-02],\n",
       "       [ 1.01795733e+00,  1.37592500e-01],\n",
       "       [ 7.55709541e-02, -2.38464172e-01],\n",
       "       [ 2.20553474e-01,  4.68522371e-01],\n",
       "       [-2.86885346e-01,  5.28691438e-01],\n",
       "       [-1.30176299e+00, -1.28301688e-02],\n",
       "       [ 2.20553474e-01, -2.98633239e-01],\n",
       "       [ 3.07969405e-03,  4.98606905e-01],\n",
       "       [ 5.83009774e-01, -3.43760040e-01],\n",
       "       [-9.39306686e-01, -1.28301688e-02],\n",
       "       [-2.86885346e-01, -7.49901245e-01],\n",
       "       [ 1.09044859e+00, -4.29147025e-02],\n",
       "       [-6.49341646e-01, -8.40154846e-01],\n",
       "       [ 3.07969405e-03,  9.19790377e-01],\n",
       "       [-7.21832906e-01, -4.49055908e-01],\n",
       "       [-4.31867866e-01, -4.49055908e-01],\n",
       "       [-2.86885346e-01, -5.24267242e-01],\n",
       "       [ 1.48062214e-01, -4.18971374e-01],\n",
       "       [ 1.48062214e-01, -1.28301688e-02],\n",
       "       [ 3.07969405e-03,  9.19790377e-01],\n",
       "       [-8.66815426e-01,  9.64917177e-01],\n",
       "       [-1.30176299e+00, -8.55197113e-01],\n",
       "       [-9.39306686e-01, -6.14520843e-01],\n",
       "       [-5.76850386e-01, -1.03083770e-01],\n",
       "       [ 6.55501034e-01, -5.99478576e-01],\n",
       "       [ 1.48062214e-01,  9.24656993e-02],\n",
       "       [ 1.52539615e+00,  1.52634767e-01],\n",
       "       [ 1.48062214e-01, -6.44605377e-01],\n",
       "       [-1.41902826e-01,  3.03057435e-01],\n",
       "       [ 1.38041363e+00, -7.49901245e-01],\n",
       "       [-1.01179795e+00, -7.64943512e-01],\n",
       "       [-7.94324166e-01, -5.39309509e-01],\n",
       "       [-6.94115660e-02, -2.68548705e-01],\n",
       "       [-2.14394086e-01, -2.83590972e-01],\n",
       "       [-1.37425425e+00, -5.54351776e-01],\n",
       "       [ 1.23543111e+00,  4.68522371e-01],\n",
       "       [ 7.55709541e-02, -2.38464172e-01],\n",
       "       [ 2.20553474e-01,  5.28691438e-01],\n",
       "       [-1.37425425e+00, -7.49901245e-01],\n",
       "       [ 7.55709541e-02, -1.18126037e-01],\n",
       "       [ 5.83009774e-01, -7.95028046e-01],\n",
       "       [-1.51923677e+00,  1.97761567e-01],\n",
       "       [-2.86885346e-01,  9.24656993e-02],\n",
       "       [ 1.52539615e+00, -4.64098175e-01],\n",
       "       [-3.59376606e-01, -1.28301688e-02],\n",
       "       [ 5.10518514e-01, -4.79140442e-01],\n",
       "       [-8.66815426e-01, -6.29563110e-01],\n",
       "       [-1.44674551e+00, -4.29147025e-02],\n",
       "       [ 3.07969405e-03,  9.24656993e-02],\n",
       "       [-9.39306686e-01,  1.22550233e-01],\n",
       "       [-1.01179795e+00,  1.07507966e-01],\n",
       "       [-7.94324166e-01,  1.82719300e-01],\n",
       "       [ 1.16293985e+00, -5.09224975e-01],\n",
       "       [ 8.00483554e-01,  2.27846101e-01],\n",
       "       [ 7.27992294e-01,  2.27846101e-01],\n",
       "       [ 9.45466074e-01,  1.16046665e+00],\n",
       "       [-2.86885346e-01, -1.18126037e-01],\n",
       "       [ 2.20553474e-01, -2.83590972e-01],\n",
       "       [-3.59376606e-01, -4.49055908e-01],\n",
       "       [-1.41902826e-01, -3.13675506e-01],\n",
       "       [ 6.55501034e-01, -6.44605377e-01],\n",
       "       [-7.21832906e-01, -4.49055908e-01],\n",
       "       [-2.14394086e-01, -3.13675506e-01],\n",
       "       [-8.66815426e-01, -2.83590972e-01],\n",
       "       [-9.39306686e-01,  6.79114107e-01]])"
      ]
     },
     "execution_count": 109,
     "metadata": {},
     "output_type": "execute_result"
    }
   ],
   "source": [
    "from sklearn.preprocessing import StandardScaler\n",
    "scaler1 = StandardScaler()\n",
    "scaler1.fit(x_train)\n",
    "x_train_transformed = scaler1.transform(x_train)\n",
    "x_test_transformed = scaler1.transform(x_test)\n",
    "x_train_transformed"
   ]
  },
  {
   "cell_type": "code",
   "execution_count": 110,
   "id": "1dff2fb4",
   "metadata": {},
   "outputs": [
    {
     "data": {
      "text/plain": [
       "array([[-6.94115660e-02, -2.08379638e-01],\n",
       "       [ 5.10518514e-01,  6.64071840e-01],\n",
       "       [ 6.55501034e-01,  1.72543649e-02],\n",
       "       [ 2.20553474e-01,  2.57930635e-01],\n",
       "       [-5.04359126e-01,  1.97761567e-01],\n",
       "       [ 8.00483554e-01, -7.95028046e-01],\n",
       "       [ 3.07969405e-03, -4.64098175e-01],\n",
       "       [-1.41902826e-01,  9.24656993e-02],\n",
       "       [-8.66815426e-01, -7.95028046e-01],\n",
       "       [-6.94115660e-02,  5.88860506e-01],\n",
       "       [-1.41902826e-01, -2.38464172e-01],\n",
       "       [-1.08428921e+00,  2.42888368e-01],\n",
       "       [-5.04359126e-01,  6.64071840e-01],\n",
       "       [ 6.55501034e-01,  6.94156374e-01],\n",
       "       [-1.37425425e+00,  1.97761567e-01],\n",
       "       [-1.41902826e-01, -2.68548705e-01],\n",
       "       [-5.04359126e-01,  9.34832644e-01],\n",
       "       [ 6.55501034e-01,  9.19790377e-01],\n",
       "       [ 1.48062214e-01, -3.13675506e-01],\n",
       "       [ 4.38027254e-01,  9.24656993e-02],\n",
       "       [-1.51923677e+00, -7.29992363e-02],\n",
       "       [-7.94324166e-01,  2.12803834e-01],\n",
       "       [-3.59376606e-01, -7.19816711e-01],\n",
       "       [ 2.20553474e-01,  3.22966318e-02],\n",
       "       [-2.86885346e-01, -2.08379638e-01],\n",
       "       [-6.94115660e-02, -2.78724357e-02],\n",
       "       [-1.08428921e+00, -2.23421905e-01],\n",
       "       [ 1.45290489e+00,  2.27846101e-01],\n",
       "       [-7.21832906e-01,  1.07507966e-01],\n",
       "       [-5.76850386e-01, -5.84436310e-01],\n",
       "       [-1.51923677e+00, -3.13675506e-01],\n",
       "       [ 2.20553474e-01,  1.07507966e-01],\n",
       "       [-1.41902826e-01,  9.64917177e-01],\n",
       "       [ 5.83009774e-01, -4.49055908e-01],\n",
       "       [-6.49341646e-01, -3.58802307e-01],\n",
       "       [-1.44674551e+00,  1.82719300e-01],\n",
       "       [-1.41902826e-01,  1.07507966e-01],\n",
       "       [-5.04359126e-01, -8.25112579e-01],\n",
       "       [ 5.83009774e-01, -3.88886840e-01],\n",
       "       [ 5.10518514e-01,  1.72543649e-02],\n",
       "       [ 4.38027254e-01, -4.18971374e-01],\n",
       "       [ 1.48062214e-01, -1.28301688e-02],\n",
       "       [-2.86885346e-01, -2.38464172e-01],\n",
       "       [ 4.42504656e+00, -1.08835225e+00],\n",
       "       [-8.66815426e-01,  1.67677034e-01],\n",
       "       [-2.86885346e-01, -7.95028046e-01],\n",
       "       [ 1.48062214e-01, -1.48210571e-01],\n",
       "       [ 9.45466074e-01,  2.57930635e-01],\n",
       "       [-8.66815426e-01, -2.23421905e-01],\n",
       "       [-9.39306686e-01, -6.44605377e-01],\n",
       "       [-8.66815426e-01,  3.48184236e-01],\n",
       "       [ 5.83009774e-01,  4.83564638e-01],\n",
       "       [-7.21832906e-01,  1.13038211e+00],\n",
       "       [ 7.27992294e-01, -6.74689911e-01],\n",
       "       [ 7.55709541e-02, -2.38464172e-01],\n",
       "       [-2.86885346e-01, -3.43760040e-01],\n",
       "       [-7.94324166e-01,  2.42888368e-01],\n",
       "       [ 2.20553474e-01, -1.18126037e-01],\n",
       "       [-2.86885346e-01, -3.88886840e-01],\n",
       "       [-6.94115660e-02, -3.28717773e-01],\n",
       "       [ 1.48062214e-01, -3.28717773e-01],\n",
       "       [-7.21832906e-01,  1.52634767e-01],\n",
       "       [-9.39306686e-01,  1.07507966e-01],\n",
       "       [ 7.27992294e-01, -6.74689911e-01],\n",
       "       [-1.15678047e+00, -7.95028046e-01],\n",
       "       [-6.49341646e-01,  2.12803834e-01],\n",
       "       [-1.44674551e+00,  4.73388987e-02],\n",
       "       [-1.41902826e-01,  1.10029758e+00],\n",
       "       [ 7.27992294e-01, -5.54351776e-01],\n",
       "       [-8.66815426e-01,  2.27846101e-01],\n",
       "       [-1.15678047e+00, -1.48210571e-01],\n",
       "       [-8.66815426e-01, -2.23421905e-01],\n",
       "       [-1.22927173e+00,  1.22550233e-01],\n",
       "       [-1.15678047e+00, -6.74689911e-01],\n",
       "       [-3.59376606e-01,  6.33987306e-01],\n",
       "       [-5.04359126e-01,  1.16046665e+00],\n",
       "       [ 6.55501034e-01, -4.79140442e-01],\n",
       "       [-1.22927173e+00, -1.48210571e-01],\n",
       "       [ 4.38027254e-01, -7.64943512e-01],\n",
       "       [-2.14394086e-01, -3.43760040e-01],\n",
       "       [-1.51923677e+00,  1.37592500e-01],\n",
       "       [-2.14394086e-01, -5.99478576e-01],\n",
       "       [-2.86885346e-01,  3.22966318e-02],\n",
       "       [ 5.10518514e-01,  2.27846101e-01],\n",
       "       [ 2.20553474e-01, -1.33168304e-01],\n",
       "       [-3.59376606e-01,  5.88860506e-01],\n",
       "       [ 1.45290489e+00,  1.52634767e-01],\n",
       "       [-1.08428921e+00, -2.68548705e-01],\n",
       "       [-5.76850386e-01, -8.70239380e-01],\n",
       "       [-7.21832906e-01,  3.22966318e-02],\n",
       "       [ 5.10518514e-01,  1.37592500e-01],\n",
       "       [-6.94115660e-02, -1.18126037e-01],\n",
       "       [-2.86885346e-01, -1.28301688e-02],\n",
       "       [ 3.65535994e-01,  9.95001711e-01],\n",
       "       [ 5.83009774e-01,  1.07021305e+00],\n",
       "       [-2.14394086e-01, -1.48210571e-01],\n",
       "       [ 6.55501034e-01, -5.69394043e-01],\n",
       "       [ 1.30792237e+00, -1.93337371e-01],\n",
       "       [ 1.38041363e+00, -5.24267242e-01],\n",
       "       [-1.15678047e+00, -3.73844574e-01],\n",
       "       [-1.01179795e+00, -5.99478576e-01],\n",
       "       [-6.49341646e-01,  9.24656993e-02],\n",
       "       [-9.39306686e-01, -8.70239380e-01]])"
      ]
     },
     "execution_count": 110,
     "metadata": {},
     "output_type": "execute_result"
    }
   ],
   "source": [
    "x_test_transformed"
   ]
  },
  {
   "cell_type": "markdown",
   "id": "80ab47b3",
   "metadata": {},
   "source": [
    "## Convert the numpy arrays into dataframe"
   ]
  },
  {
   "cell_type": "code",
   "execution_count": 111,
   "id": "369380f7",
   "metadata": {},
   "outputs": [],
   "source": [
    "x_train_transformed = pd.DataFrame(x_train_transformed, columns = x_train.columns)\n",
    "x_test_transformed = pd.DataFrame(x_test_transformed, columns = x_test.columns)"
   ]
  },
  {
   "cell_type": "code",
   "execution_count": 112,
   "id": "7afe483f",
   "metadata": {},
   "outputs": [
    {
     "data": {
      "text/html": [
       "<div>\n",
       "<style scoped>\n",
       "    .dataframe tbody tr th:only-of-type {\n",
       "        vertical-align: middle;\n",
       "    }\n",
       "\n",
       "    .dataframe tbody tr th {\n",
       "        vertical-align: top;\n",
       "    }\n",
       "\n",
       "    .dataframe thead th {\n",
       "        text-align: right;\n",
       "    }\n",
       "</style>\n",
       "<table border=\"1\" class=\"dataframe\">\n",
       "  <thead>\n",
       "    <tr style=\"text-align: right;\">\n",
       "      <th></th>\n",
       "      <th>Age</th>\n",
       "      <th>EstimatedSalary</th>\n",
       "    </tr>\n",
       "  </thead>\n",
       "  <tbody>\n",
       "    <tr>\n",
       "      <th>0</th>\n",
       "      <td>0.655501</td>\n",
       "      <td>0.257931</td>\n",
       "    </tr>\n",
       "    <tr>\n",
       "      <th>1</th>\n",
       "      <td>0.510519</td>\n",
       "      <td>0.348184</td>\n",
       "    </tr>\n",
       "    <tr>\n",
       "      <th>2</th>\n",
       "      <td>1.452905</td>\n",
       "      <td>0.047339</td>\n",
       "    </tr>\n",
       "    <tr>\n",
       "      <th>3</th>\n",
       "      <td>0.510519</td>\n",
       "      <td>0.092466</td>\n",
       "    </tr>\n",
       "    <tr>\n",
       "      <th>4</th>\n",
       "      <td>-0.939307</td>\n",
       "      <td>-0.569394</td>\n",
       "    </tr>\n",
       "    <tr>\n",
       "      <th>...</th>\n",
       "      <td>...</td>\n",
       "      <td>...</td>\n",
       "    </tr>\n",
       "    <tr>\n",
       "      <th>301</th>\n",
       "      <td>0.655501</td>\n",
       "      <td>-0.644605</td>\n",
       "    </tr>\n",
       "    <tr>\n",
       "      <th>302</th>\n",
       "      <td>-0.721833</td>\n",
       "      <td>-0.449056</td>\n",
       "    </tr>\n",
       "    <tr>\n",
       "      <th>303</th>\n",
       "      <td>-0.214394</td>\n",
       "      <td>-0.313676</td>\n",
       "    </tr>\n",
       "    <tr>\n",
       "      <th>304</th>\n",
       "      <td>-0.866815</td>\n",
       "      <td>-0.283591</td>\n",
       "    </tr>\n",
       "    <tr>\n",
       "      <th>305</th>\n",
       "      <td>-0.939307</td>\n",
       "      <td>0.679114</td>\n",
       "    </tr>\n",
       "  </tbody>\n",
       "</table>\n",
       "<p>306 rows × 2 columns</p>\n",
       "</div>"
      ],
      "text/plain": [
       "          Age  EstimatedSalary\n",
       "0    0.655501         0.257931\n",
       "1    0.510519         0.348184\n",
       "2    1.452905         0.047339\n",
       "3    0.510519         0.092466\n",
       "4   -0.939307        -0.569394\n",
       "..        ...              ...\n",
       "301  0.655501        -0.644605\n",
       "302 -0.721833        -0.449056\n",
       "303 -0.214394        -0.313676\n",
       "304 -0.866815        -0.283591\n",
       "305 -0.939307         0.679114\n",
       "\n",
       "[306 rows x 2 columns]"
      ]
     },
     "execution_count": 112,
     "metadata": {},
     "output_type": "execute_result"
    }
   ],
   "source": [
    "x_train_transformed"
   ]
  },
  {
   "cell_type": "code",
   "execution_count": 114,
   "id": "f774ea66",
   "metadata": {},
   "outputs": [
    {
     "data": {
      "text/html": [
       "<div>\n",
       "<style scoped>\n",
       "    .dataframe tbody tr th:only-of-type {\n",
       "        vertical-align: middle;\n",
       "    }\n",
       "\n",
       "    .dataframe tbody tr th {\n",
       "        vertical-align: top;\n",
       "    }\n",
       "\n",
       "    .dataframe thead th {\n",
       "        text-align: right;\n",
       "    }\n",
       "</style>\n",
       "<table border=\"1\" class=\"dataframe\">\n",
       "  <thead>\n",
       "    <tr style=\"text-align: right;\">\n",
       "      <th></th>\n",
       "      <th>Age</th>\n",
       "      <th>EstimatedSalary</th>\n",
       "    </tr>\n",
       "  </thead>\n",
       "  <tbody>\n",
       "    <tr>\n",
       "      <th>0</th>\n",
       "      <td>-0.069412</td>\n",
       "      <td>-0.208380</td>\n",
       "    </tr>\n",
       "    <tr>\n",
       "      <th>1</th>\n",
       "      <td>0.510519</td>\n",
       "      <td>0.664072</td>\n",
       "    </tr>\n",
       "    <tr>\n",
       "      <th>2</th>\n",
       "      <td>0.655501</td>\n",
       "      <td>0.017254</td>\n",
       "    </tr>\n",
       "    <tr>\n",
       "      <th>3</th>\n",
       "      <td>0.220553</td>\n",
       "      <td>0.257931</td>\n",
       "    </tr>\n",
       "    <tr>\n",
       "      <th>4</th>\n",
       "      <td>-0.504359</td>\n",
       "      <td>0.197762</td>\n",
       "    </tr>\n",
       "    <tr>\n",
       "      <th>...</th>\n",
       "      <td>...</td>\n",
       "      <td>...</td>\n",
       "    </tr>\n",
       "    <tr>\n",
       "      <th>98</th>\n",
       "      <td>1.380414</td>\n",
       "      <td>-0.524267</td>\n",
       "    </tr>\n",
       "    <tr>\n",
       "      <th>99</th>\n",
       "      <td>-1.156780</td>\n",
       "      <td>-0.373845</td>\n",
       "    </tr>\n",
       "    <tr>\n",
       "      <th>100</th>\n",
       "      <td>-1.011798</td>\n",
       "      <td>-0.599479</td>\n",
       "    </tr>\n",
       "    <tr>\n",
       "      <th>101</th>\n",
       "      <td>-0.649342</td>\n",
       "      <td>0.092466</td>\n",
       "    </tr>\n",
       "    <tr>\n",
       "      <th>102</th>\n",
       "      <td>-0.939307</td>\n",
       "      <td>-0.870239</td>\n",
       "    </tr>\n",
       "  </tbody>\n",
       "</table>\n",
       "<p>103 rows × 2 columns</p>\n",
       "</div>"
      ],
      "text/plain": [
       "          Age  EstimatedSalary\n",
       "0   -0.069412        -0.208380\n",
       "1    0.510519         0.664072\n",
       "2    0.655501         0.017254\n",
       "3    0.220553         0.257931\n",
       "4   -0.504359         0.197762\n",
       "..        ...              ...\n",
       "98   1.380414        -0.524267\n",
       "99  -1.156780        -0.373845\n",
       "100 -1.011798        -0.599479\n",
       "101 -0.649342         0.092466\n",
       "102 -0.939307        -0.870239\n",
       "\n",
       "[103 rows x 2 columns]"
      ]
     },
     "execution_count": 114,
     "metadata": {},
     "output_type": "execute_result"
    }
   ],
   "source": [
    "x_test_transformed"
   ]
  },
  {
   "cell_type": "code",
   "execution_count": 115,
   "id": "04e9293c",
   "metadata": {},
   "outputs": [
    {
     "data": {
      "text/plain": [
       "<matplotlib.collections.PathCollection at 0x201731a4910>"
      ]
     },
     "execution_count": 115,
     "metadata": {},
     "output_type": "execute_result"
    },
    {
     "data": {
      "image/png": "[encoded data removed]",
      "text/plain": [
       "<Figure size 432x288 with 1 Axes>"
      ]
     },
     "metadata": {
      "needs_background": "light"
     },
     "output_type": "display_data"
    }
   ],
   "source": [
    "plt.scatter(x_train_transformed[\"Age\"],x_train_transformed[\"EstimatedSalary\"])"
   ]
  },
  {
   "cell_type": "code",
   "execution_count": 118,
   "id": "ffe136d1",
   "metadata": {},
   "outputs": [
    {
     "data": {
      "image/png": "[encoded data removed]",
      "text/plain": [
       "<Figure size 864x504 with 2 Axes>"
      ]
     },
     "metadata": {
      "needs_background": "light"
     },
     "output_type": "display_data"
    }
   ],
   "source": [
    "fig, (ax1,ax2) = plt.subplots(ncols = 2, figsize = (12,7))\n",
    "\n",
    "ax1.set_title(\"Before Scaling\")\n",
    "ax1.scatter(x_train[\"Age\"],x_train[\"EstimatedSalary\"], color = \"orange\")\n",
    "\n",
    "ax2.set_title(\"After Scaling\")\n",
    "ax2.scatter(x_train_transformed[\"Age\"],x_train_transformed[\"EstimatedSalary\"], color = \"green\")\n",
    "plt.show()"
   ]
  },
  {
   "cell_type": "markdown",
   "id": "f8013dcc",
   "metadata": {},
   "source": [
    "## Frome the above visualization we can conclude that scaling has no effect of outliers, so we have to deal with the outliers separately for our model to give better prediction"
   ]
  },
  {
   "cell_type": "code",
   "execution_count": null,
   "id": "593c3748",
   "metadata": {},
   "outputs": [],
   "source": []
  }
 ],
 "metadata": {
  "kernelspec": {
   "display_name": "Python 3 (ipykernel)",
   "language": "python",
   "name": "python3"
  },
  "language_info": {
   "codemirror_mode": {
    "name": "ipython",
    "version": 3
   },
   "file_extension": ".py",
   "mimetype": "text/x-python",
   "name": "python",
   "nbconvert_exporter": "python",
   "pygments_lexer": "ipython3",
   "version": "3.9.7"
  }
 },
 "nbformat": 4,
 "nbformat_minor": 5
}
