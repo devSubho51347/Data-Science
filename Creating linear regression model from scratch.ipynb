{
 "cells": [
  {
   "cell_type": "code",
   "execution_count": 1,
   "id": "584b84ec",
   "metadata": {},
   "outputs": [],
   "source": [
    "import numpy as np\n",
    "import pandas as pd\n",
    "from matplotlib import pyplot as plt"
   ]
  },
  {
   "cell_type": "code",
   "execution_count": 2,
   "id": "2fb74e36",
   "metadata": {},
   "outputs": [],
   "source": [
    "import sklearn\n",
    "from sklearn import datasets"
   ]
  },
  {
   "cell_type": "code",
   "execution_count": 3,
   "id": "e2b3a27f",
   "metadata": {},
   "outputs": [],
   "source": [
    "df = datasets.load_diabetes()"
   ]
  },
  {
   "cell_type": "code",
   "execution_count": 4,
   "id": "8f19b7eb",
   "metadata": {},
   "outputs": [],
   "source": [
    "X = df.data\n",
    "Y = df.target"
   ]
  },
  {
   "cell_type": "code",
   "execution_count": 5,
   "id": "e715572c",
   "metadata": {},
   "outputs": [
    {
     "data": {
      "text/plain": [
       "((442, 10), (442,))"
      ]
     },
     "execution_count": 5,
     "metadata": {},
     "output_type": "execute_result"
    }
   ],
   "source": [
    "X.shape, Y.shape"
   ]
  },
  {
   "cell_type": "code",
   "execution_count": 6,
   "id": "6dad0d28",
   "metadata": {},
   "outputs": [
    {
     "data": {
      "text/plain": [
       "['age', 'sex', 'bmi', 'bp', 's1', 's2', 's3', 's4', 's5', 's6']"
      ]
     },
     "execution_count": 6,
     "metadata": {},
     "output_type": "execute_result"
    }
   ],
   "source": [
    "df.feature_names"
   ]
  },
  {
   "cell_type": "code",
   "execution_count": 7,
   "id": "ca62c85d",
   "metadata": {},
   "outputs": [
    {
     "data": {
      "text/html": [
       "<div>\n",
       "<style scoped>\n",
       "    .dataframe tbody tr th:only-of-type {\n",
       "        vertical-align: middle;\n",
       "    }\n",
       "\n",
       "    .dataframe tbody tr th {\n",
       "        vertical-align: top;\n",
       "    }\n",
       "\n",
       "    .dataframe thead th {\n",
       "        text-align: right;\n",
       "    }\n",
       "</style>\n",
       "<table border=\"1\" class=\"dataframe\">\n",
       "  <thead>\n",
       "    <tr style=\"text-align: right;\">\n",
       "      <th></th>\n",
       "      <th>age</th>\n",
       "      <th>sex</th>\n",
       "      <th>bmi</th>\n",
       "      <th>bp</th>\n",
       "      <th>s1</th>\n",
       "      <th>s2</th>\n",
       "      <th>s3</th>\n",
       "      <th>s4</th>\n",
       "      <th>s5</th>\n",
       "      <th>s6</th>\n",
       "    </tr>\n",
       "  </thead>\n",
       "  <tbody>\n",
       "    <tr>\n",
       "      <th>0</th>\n",
       "      <td>0.038076</td>\n",
       "      <td>0.050680</td>\n",
       "      <td>0.061696</td>\n",
       "      <td>0.021872</td>\n",
       "      <td>-0.044223</td>\n",
       "      <td>-0.034821</td>\n",
       "      <td>-0.043401</td>\n",
       "      <td>-0.002592</td>\n",
       "      <td>0.019908</td>\n",
       "      <td>-0.017646</td>\n",
       "    </tr>\n",
       "    <tr>\n",
       "      <th>1</th>\n",
       "      <td>-0.001882</td>\n",
       "      <td>-0.044642</td>\n",
       "      <td>-0.051474</td>\n",
       "      <td>-0.026328</td>\n",
       "      <td>-0.008449</td>\n",
       "      <td>-0.019163</td>\n",
       "      <td>0.074412</td>\n",
       "      <td>-0.039493</td>\n",
       "      <td>-0.068330</td>\n",
       "      <td>-0.092204</td>\n",
       "    </tr>\n",
       "    <tr>\n",
       "      <th>2</th>\n",
       "      <td>0.085299</td>\n",
       "      <td>0.050680</td>\n",
       "      <td>0.044451</td>\n",
       "      <td>-0.005671</td>\n",
       "      <td>-0.045599</td>\n",
       "      <td>-0.034194</td>\n",
       "      <td>-0.032356</td>\n",
       "      <td>-0.002592</td>\n",
       "      <td>0.002864</td>\n",
       "      <td>-0.025930</td>\n",
       "    </tr>\n",
       "    <tr>\n",
       "      <th>3</th>\n",
       "      <td>-0.089063</td>\n",
       "      <td>-0.044642</td>\n",
       "      <td>-0.011595</td>\n",
       "      <td>-0.036656</td>\n",
       "      <td>0.012191</td>\n",
       "      <td>0.024991</td>\n",
       "      <td>-0.036038</td>\n",
       "      <td>0.034309</td>\n",
       "      <td>0.022692</td>\n",
       "      <td>-0.009362</td>\n",
       "    </tr>\n",
       "    <tr>\n",
       "      <th>4</th>\n",
       "      <td>0.005383</td>\n",
       "      <td>-0.044642</td>\n",
       "      <td>-0.036385</td>\n",
       "      <td>0.021872</td>\n",
       "      <td>0.003935</td>\n",
       "      <td>0.015596</td>\n",
       "      <td>0.008142</td>\n",
       "      <td>-0.002592</td>\n",
       "      <td>-0.031991</td>\n",
       "      <td>-0.046641</td>\n",
       "    </tr>\n",
       "    <tr>\n",
       "      <th>...</th>\n",
       "      <td>...</td>\n",
       "      <td>...</td>\n",
       "      <td>...</td>\n",
       "      <td>...</td>\n",
       "      <td>...</td>\n",
       "      <td>...</td>\n",
       "      <td>...</td>\n",
       "      <td>...</td>\n",
       "      <td>...</td>\n",
       "      <td>...</td>\n",
       "    </tr>\n",
       "    <tr>\n",
       "      <th>437</th>\n",
       "      <td>0.041708</td>\n",
       "      <td>0.050680</td>\n",
       "      <td>0.019662</td>\n",
       "      <td>0.059744</td>\n",
       "      <td>-0.005697</td>\n",
       "      <td>-0.002566</td>\n",
       "      <td>-0.028674</td>\n",
       "      <td>-0.002592</td>\n",
       "      <td>0.031193</td>\n",
       "      <td>0.007207</td>\n",
       "    </tr>\n",
       "    <tr>\n",
       "      <th>438</th>\n",
       "      <td>-0.005515</td>\n",
       "      <td>0.050680</td>\n",
       "      <td>-0.015906</td>\n",
       "      <td>-0.067642</td>\n",
       "      <td>0.049341</td>\n",
       "      <td>0.079165</td>\n",
       "      <td>-0.028674</td>\n",
       "      <td>0.034309</td>\n",
       "      <td>-0.018118</td>\n",
       "      <td>0.044485</td>\n",
       "    </tr>\n",
       "    <tr>\n",
       "      <th>439</th>\n",
       "      <td>0.041708</td>\n",
       "      <td>0.050680</td>\n",
       "      <td>-0.015906</td>\n",
       "      <td>0.017282</td>\n",
       "      <td>-0.037344</td>\n",
       "      <td>-0.013840</td>\n",
       "      <td>-0.024993</td>\n",
       "      <td>-0.011080</td>\n",
       "      <td>-0.046879</td>\n",
       "      <td>0.015491</td>\n",
       "    </tr>\n",
       "    <tr>\n",
       "      <th>440</th>\n",
       "      <td>-0.045472</td>\n",
       "      <td>-0.044642</td>\n",
       "      <td>0.039062</td>\n",
       "      <td>0.001215</td>\n",
       "      <td>0.016318</td>\n",
       "      <td>0.015283</td>\n",
       "      <td>-0.028674</td>\n",
       "      <td>0.026560</td>\n",
       "      <td>0.044528</td>\n",
       "      <td>-0.025930</td>\n",
       "    </tr>\n",
       "    <tr>\n",
       "      <th>441</th>\n",
       "      <td>-0.045472</td>\n",
       "      <td>-0.044642</td>\n",
       "      <td>-0.073030</td>\n",
       "      <td>-0.081414</td>\n",
       "      <td>0.083740</td>\n",
       "      <td>0.027809</td>\n",
       "      <td>0.173816</td>\n",
       "      <td>-0.039493</td>\n",
       "      <td>-0.004220</td>\n",
       "      <td>0.003064</td>\n",
       "    </tr>\n",
       "  </tbody>\n",
       "</table>\n",
       "<p>442 rows × 10 columns</p>\n",
       "</div>"
      ],
      "text/plain": [
       "          age       sex       bmi        bp        s1        s2        s3  \\\n",
       "0    0.038076  0.050680  0.061696  0.021872 -0.044223 -0.034821 -0.043401   \n",
       "1   -0.001882 -0.044642 -0.051474 -0.026328 -0.008449 -0.019163  0.074412   \n",
       "2    0.085299  0.050680  0.044451 -0.005671 -0.045599 -0.034194 -0.032356   \n",
       "3   -0.089063 -0.044642 -0.011595 -0.036656  0.012191  0.024991 -0.036038   \n",
       "4    0.005383 -0.044642 -0.036385  0.021872  0.003935  0.015596  0.008142   \n",
       "..        ...       ...       ...       ...       ...       ...       ...   \n",
       "437  0.041708  0.050680  0.019662  0.059744 -0.005697 -0.002566 -0.028674   \n",
       "438 -0.005515  0.050680 -0.015906 -0.067642  0.049341  0.079165 -0.028674   \n",
       "439  0.041708  0.050680 -0.015906  0.017282 -0.037344 -0.013840 -0.024993   \n",
       "440 -0.045472 -0.044642  0.039062  0.001215  0.016318  0.015283 -0.028674   \n",
       "441 -0.045472 -0.044642 -0.073030 -0.081414  0.083740  0.027809  0.173816   \n",
       "\n",
       "           s4        s5        s6  \n",
       "0   -0.002592  0.019908 -0.017646  \n",
       "1   -0.039493 -0.068330 -0.092204  \n",
       "2   -0.002592  0.002864 -0.025930  \n",
       "3    0.034309  0.022692 -0.009362  \n",
       "4   -0.002592 -0.031991 -0.046641  \n",
       "..        ...       ...       ...  \n",
       "437 -0.002592  0.031193  0.007207  \n",
       "438  0.034309 -0.018118  0.044485  \n",
       "439 -0.011080 -0.046879  0.015491  \n",
       "440  0.026560  0.044528 -0.025930  \n",
       "441 -0.039493 -0.004220  0.003064  \n",
       "\n",
       "[442 rows x 10 columns]"
      ]
     },
     "execution_count": 7,
     "metadata": {},
     "output_type": "execute_result"
    }
   ],
   "source": [
    "df1 = pd.DataFrame(X)\n",
    "df1.columns = df.feature_names\n",
    "df1"
   ]
  },
  {
   "cell_type": "markdown",
   "id": "013e6fb4",
   "metadata": {},
   "source": [
    "## Since it will be very difficult to create the model for multiple features so we are going to select only one feature"
   ]
  },
  {
   "cell_type": "code",
   "execution_count": 8,
   "id": "46c1a369",
   "metadata": {},
   "outputs": [],
   "source": [
    "X__ = X[:,0]"
   ]
  },
  {
   "cell_type": "code",
   "execution_count": 9,
   "id": "aff48def",
   "metadata": {},
   "outputs": [],
   "source": [
    "age_x = df1.iloc[:,0:1]"
   ]
  },
  {
   "cell_type": "code",
   "execution_count": 10,
   "id": "bf9faa99",
   "metadata": {},
   "outputs": [],
   "source": [
    "from sklearn import model_selection\n",
    "x_train,x_test,y_train,y_test = model_selection.train_test_split(X__,Y, train_size = 0.7)"
   ]
  },
  {
   "cell_type": "code",
   "execution_count": null,
   "id": "cec6c9b2",
   "metadata": {},
   "outputs": [],
   "source": []
  },
  {
   "cell_type": "markdown",
   "id": "30ecf473",
   "metadata": {},
   "source": [
    "# Now we are going to build our model"
   ]
  },
  {
   "cell_type": "code",
   "execution_count": 11,
   "id": "8bebb79c",
   "metadata": {},
   "outputs": [
    {
     "data": {
      "text/plain": [
       "((309,), (133,), (309,), (133,))"
      ]
     },
     "execution_count": 11,
     "metadata": {},
     "output_type": "execute_result"
    }
   ],
   "source": [
    "x_train.shape,x_test.shape,y_train.shape,y_test.shape"
   ]
  },
  {
   "cell_type": "code",
   "execution_count": 12,
   "id": "bf2f5666",
   "metadata": {},
   "outputs": [],
   "source": [
    "# So the features which we need to have in our model are cost function, goodness of fit score, measurement of coefficients, predicted value"
   ]
  },
  {
   "cell_type": "code",
   "execution_count": 13,
   "id": "23437fc4",
   "metadata": {},
   "outputs": [],
   "source": [
    "class LinearRegression:\n",
    "    \n",
    "    def __init__(self,x_train,x_test,y_train,y_test):\n",
    "        self.x_train = x_train\n",
    "        self.x_test = x_test\n",
    "        self.y_train = y_train\n",
    "        self.y_test = y_test\n",
    "        \n",
    "    # Method to find the coefficients\n",
    "    \n",
    "    def find_coefficients(self):\n",
    "        numerator = ((self.x_train * self.y_train).mean()) - ((self.x_train.mean())*(self.y_train.mean()))\n",
    "        denominator = (self.x_train**2).mean() - (self.x_train.mean()*self.x_train.mean())\n",
    "        self.m = numerator/ denominator\n",
    "        self.c = self.y_train.mean() - (self.m * (self.x_train.mean()))\n",
    "        return self.c,self.m\n",
    "        \n",
    "    # Find the predicted values\n",
    "    def find_predicted(self,x_x):\n",
    "        self.predicted = (self.m * x_x) + self.c\n",
    "        return self.predicted\n",
    "    def goodness_of_fit(self):\n",
    "        mean = self.y_test.mean()\n",
    "        self.fit = 1 - ((((self.y_test- self.predicted)**2).sum())/(((self.y_test - mean)**2).sum()))\n",
    "        return self.fit"
   ]
  },
  {
   "cell_type": "code",
   "execution_count": 14,
   "id": "bd03848f",
   "metadata": {},
   "outputs": [
    {
     "name": "stdout",
     "output_type": "stream",
     "text": [
      "(151.86234990606866, 415.2125542200304)\n",
      "[176.72159768 175.21332211 151.08091302 146.55608631 157.11401529\n",
      " 143.53953517 169.18021984 119.40712608 142.03125961 154.09746415\n",
      " 158.62229086 176.72159768 155.60573972 148.06436188 140.52298404\n",
      " 160.13056643 129.96505506 179.73814882 169.18021984 167.67194427\n",
      " 122.42367721 163.14711756 170.68849541 166.1636687  120.91540165\n",
      " 140.52298404 132.98160619 131.47333063 134.48988176 155.60573972\n",
      " 135.99815733 179.73814882 160.13056643 140.52298404 125.44022835\n",
      " 170.68849541 114.88229937 128.45677949 158.62229086 157.11401529\n",
      " 119.40712608 129.96505506 178.22987325 157.11401529 160.13056643\n",
      " 176.72159768 117.89885051 172.19677098 163.14711756 151.08091302\n",
      " 149.57263745 154.09746415 145.04781074 158.62229086 154.09746415\n",
      " 154.09746415 152.58918859 146.55608631 158.62229086 164.65539313\n",
      " 181.24642439 179.73814882 178.22987325 157.11401529 107.34092153\n",
      " 179.73814882 182.75469996 170.68849541 154.09746415 132.98160619\n",
      " 179.73814882 149.57263745 161.638842   169.18021984 152.58918859\n",
      " 140.52298404 172.19677098 181.24642439 173.70504654 152.58918859\n",
      " 129.96505506 157.11401529 188.78780223 122.42367721 178.22987325\n",
      " 111.86574823 125.44022835 169.18021984 137.5064329  140.52298404\n",
      " 151.08091302 172.19677098 107.34092153 131.47333063 182.75469996\n",
      " 169.18021984 135.99815733 169.18021984 191.80435337 123.93195278\n",
      " 119.40712608 149.57263745 135.99815733 142.03125961 110.35747267\n",
      " 155.60573972 158.62229086 160.13056643 145.04781074 152.58918859\n",
      " 167.67194427 148.06436188 155.60573972 132.98160619 151.08091302\n",
      " 120.91540165 158.62229086 140.52298404 113.3740238  123.93195278\n",
      " 158.62229086 181.24642439 140.52298404 157.11401529 158.62229086\n",
      " 151.08091302 164.65539313 129.96505506 132.98160619 143.53953517\n",
      " 163.14711756 132.98160619 161.638842  ]\n",
      "-0.05734939741325484\n"
     ]
    }
   ],
   "source": [
    "alg1 = LinearRegression(x_train,x_test,y_train,y_test)\n",
    "print(alg1.find_coefficients())\n",
    "print(alg1.find_predicted(x_test))\n",
    "print(alg1.goodness_of_fit())"
   ]
  },
  {
   "cell_type": "code",
   "execution_count": 15,
   "id": "eba10ff5",
   "metadata": {},
   "outputs": [],
   "source": [
    "predicted = alg1.find_predicted(x_train)"
   ]
  },
  {
   "cell_type": "code",
   "execution_count": 16,
   "id": "f79f80ec",
   "metadata": {},
   "outputs": [
    {
     "data": {
      "image/png": "[encoded data removed]",
      "text/plain": [
       "<Figure size 432x288 with 1 Axes>"
      ]
     },
     "metadata": {
      "needs_background": "light"
     },
     "output_type": "display_data"
    }
   ],
   "source": [
    "plt.scatter(y_train,predicted)\n",
    "\n",
    "plt.show()"
   ]
  },
  {
   "cell_type": "code",
   "execution_count": 25,
   "id": "2a2032bb",
   "metadata": {},
   "outputs": [
    {
     "data": {
      "text/plain": [
       "(151.86234990606866, 415.2125542200304)"
      ]
     },
     "execution_count": 25,
     "metadata": {},
     "output_type": "execute_result"
    }
   ],
   "source": [
    "c, m = alg1.find_coefficients()\n",
    "c,m"
   ]
  },
  {
   "cell_type": "code",
   "execution_count": 34,
   "id": "3e5f7328",
   "metadata": {},
   "outputs": [],
   "source": [
    "li = np.arange(-0.1,1,0.005)"
   ]
  },
  {
   "cell_type": "code",
   "execution_count": 35,
   "id": "aafcaeeb",
   "metadata": {},
   "outputs": [
    {
     "data": {
      "text/plain": [
       "array([-1.00000000e-01, -9.50000000e-02, -9.00000000e-02, -8.50000000e-02,\n",
       "       -8.00000000e-02, -7.50000000e-02, -7.00000000e-02, -6.50000000e-02,\n",
       "       -6.00000000e-02, -5.50000000e-02, -5.00000000e-02, -4.50000000e-02,\n",
       "       -4.00000000e-02, -3.50000000e-02, -3.00000000e-02, -2.50000000e-02,\n",
       "       -2.00000000e-02, -1.50000000e-02, -1.00000000e-02, -5.00000000e-03,\n",
       "        8.32667268e-17,  5.00000000e-03,  1.00000000e-02,  1.50000000e-02,\n",
       "        2.00000000e-02,  2.50000000e-02,  3.00000000e-02,  3.50000000e-02,\n",
       "        4.00000000e-02,  4.50000000e-02,  5.00000000e-02,  5.50000000e-02,\n",
       "        6.00000000e-02,  6.50000000e-02,  7.00000000e-02,  7.50000000e-02,\n",
       "        8.00000000e-02,  8.50000000e-02,  9.00000000e-02,  9.50000000e-02,\n",
       "        1.00000000e-01,  1.05000000e-01,  1.10000000e-01,  1.15000000e-01,\n",
       "        1.20000000e-01,  1.25000000e-01,  1.30000000e-01,  1.35000000e-01,\n",
       "        1.40000000e-01,  1.45000000e-01,  1.50000000e-01,  1.55000000e-01,\n",
       "        1.60000000e-01,  1.65000000e-01,  1.70000000e-01,  1.75000000e-01,\n",
       "        1.80000000e-01,  1.85000000e-01,  1.90000000e-01,  1.95000000e-01,\n",
       "        2.00000000e-01,  2.05000000e-01,  2.10000000e-01,  2.15000000e-01,\n",
       "        2.20000000e-01,  2.25000000e-01,  2.30000000e-01,  2.35000000e-01,\n",
       "        2.40000000e-01,  2.45000000e-01,  2.50000000e-01,  2.55000000e-01,\n",
       "        2.60000000e-01,  2.65000000e-01,  2.70000000e-01,  2.75000000e-01,\n",
       "        2.80000000e-01,  2.85000000e-01,  2.90000000e-01,  2.95000000e-01,\n",
       "        3.00000000e-01,  3.05000000e-01,  3.10000000e-01,  3.15000000e-01,\n",
       "        3.20000000e-01,  3.25000000e-01,  3.30000000e-01,  3.35000000e-01,\n",
       "        3.40000000e-01,  3.45000000e-01,  3.50000000e-01,  3.55000000e-01,\n",
       "        3.60000000e-01,  3.65000000e-01,  3.70000000e-01,  3.75000000e-01,\n",
       "        3.80000000e-01,  3.85000000e-01,  3.90000000e-01,  3.95000000e-01,\n",
       "        4.00000000e-01,  4.05000000e-01,  4.10000000e-01,  4.15000000e-01,\n",
       "        4.20000000e-01,  4.25000000e-01,  4.30000000e-01,  4.35000000e-01,\n",
       "        4.40000000e-01,  4.45000000e-01,  4.50000000e-01,  4.55000000e-01,\n",
       "        4.60000000e-01,  4.65000000e-01,  4.70000000e-01,  4.75000000e-01,\n",
       "        4.80000000e-01,  4.85000000e-01,  4.90000000e-01,  4.95000000e-01,\n",
       "        5.00000000e-01,  5.05000000e-01,  5.10000000e-01,  5.15000000e-01,\n",
       "        5.20000000e-01,  5.25000000e-01,  5.30000000e-01,  5.35000000e-01,\n",
       "        5.40000000e-01,  5.45000000e-01,  5.50000000e-01,  5.55000000e-01,\n",
       "        5.60000000e-01,  5.65000000e-01,  5.70000000e-01,  5.75000000e-01,\n",
       "        5.80000000e-01,  5.85000000e-01,  5.90000000e-01,  5.95000000e-01,\n",
       "        6.00000000e-01,  6.05000000e-01,  6.10000000e-01,  6.15000000e-01,\n",
       "        6.20000000e-01,  6.25000000e-01,  6.30000000e-01,  6.35000000e-01,\n",
       "        6.40000000e-01,  6.45000000e-01,  6.50000000e-01,  6.55000000e-01,\n",
       "        6.60000000e-01,  6.65000000e-01,  6.70000000e-01,  6.75000000e-01,\n",
       "        6.80000000e-01,  6.85000000e-01,  6.90000000e-01,  6.95000000e-01,\n",
       "        7.00000000e-01,  7.05000000e-01,  7.10000000e-01,  7.15000000e-01,\n",
       "        7.20000000e-01,  7.25000000e-01,  7.30000000e-01,  7.35000000e-01,\n",
       "        7.40000000e-01,  7.45000000e-01,  7.50000000e-01,  7.55000000e-01,\n",
       "        7.60000000e-01,  7.65000000e-01,  7.70000000e-01,  7.75000000e-01,\n",
       "        7.80000000e-01,  7.85000000e-01,  7.90000000e-01,  7.95000000e-01,\n",
       "        8.00000000e-01,  8.05000000e-01,  8.10000000e-01,  8.15000000e-01,\n",
       "        8.20000000e-01,  8.25000000e-01,  8.30000000e-01,  8.35000000e-01,\n",
       "        8.40000000e-01,  8.45000000e-01,  8.50000000e-01,  8.55000000e-01,\n",
       "        8.60000000e-01,  8.65000000e-01,  8.70000000e-01,  8.75000000e-01,\n",
       "        8.80000000e-01,  8.85000000e-01,  8.90000000e-01,  8.95000000e-01,\n",
       "        9.00000000e-01,  9.05000000e-01,  9.10000000e-01,  9.15000000e-01,\n",
       "        9.20000000e-01,  9.25000000e-01,  9.30000000e-01,  9.35000000e-01,\n",
       "        9.40000000e-01,  9.45000000e-01,  9.50000000e-01,  9.55000000e-01,\n",
       "        9.60000000e-01,  9.65000000e-01,  9.70000000e-01,  9.75000000e-01,\n",
       "        9.80000000e-01,  9.85000000e-01,  9.90000000e-01,  9.95000000e-01])"
      ]
     },
     "execution_count": 35,
     "metadata": {},
     "output_type": "execute_result"
    }
   ],
   "source": [
    "li"
   ]
  },
  {
   "cell_type": "code",
   "execution_count": 42,
   "id": "d13cf580",
   "metadata": {},
   "outputs": [],
   "source": [
    "y = 0.1*m*li + c"
   ]
  },
  {
   "cell_type": "code",
   "execution_count": 43,
   "id": "4d762813",
   "metadata": {},
   "outputs": [
    {
     "data": {
      "text/plain": [
       "array([147.71022436, 147.91783064, 148.12543692, 148.3330432 ,\n",
       "       148.54064947, 148.74825575, 148.95586203, 149.1634683 ,\n",
       "       149.37107458, 149.57868086, 149.78628713, 149.99389341,\n",
       "       150.20149969, 150.40910597, 150.61671224, 150.82431852,\n",
       "       151.0319248 , 151.23953107, 151.44713735, 151.65474363,\n",
       "       151.86234991, 152.06995618, 152.27756246, 152.48516874,\n",
       "       152.69277501, 152.90038129, 153.10798757, 153.31559385,\n",
       "       153.52320012, 153.7308064 , 153.93841268, 154.14601895,\n",
       "       154.35362523, 154.56123151, 154.76883779, 154.97644406,\n",
       "       155.18405034, 155.39165662, 155.59926289, 155.80686917,\n",
       "       156.01447545, 156.22208173, 156.429688  , 156.63729428,\n",
       "       156.84490056, 157.05250683, 157.26011311, 157.46771939,\n",
       "       157.67532567, 157.88293194, 158.09053822, 158.2981445 ,\n",
       "       158.50575077, 158.71335705, 158.92096333, 159.1285696 ,\n",
       "       159.33617588, 159.54378216, 159.75138844, 159.95899471,\n",
       "       160.16660099, 160.37420727, 160.58181354, 160.78941982,\n",
       "       160.9970261 , 161.20463238, 161.41223865, 161.61984493,\n",
       "       161.82745121, 162.03505748, 162.24266376, 162.45027004,\n",
       "       162.65787632, 162.86548259, 163.07308887, 163.28069515,\n",
       "       163.48830142, 163.6959077 , 163.90351398, 164.11112026,\n",
       "       164.31872653, 164.52633281, 164.73393909, 164.94154536,\n",
       "       165.14915164, 165.35675792, 165.5643642 , 165.77197047,\n",
       "       165.97957675, 166.18718303, 166.3947893 , 166.60239558,\n",
       "       166.81000186, 167.01760814, 167.22521441, 167.43282069,\n",
       "       167.64042697, 167.84803324, 168.05563952, 168.2632458 ,\n",
       "       168.47085207, 168.67845835, 168.88606463, 169.09367091,\n",
       "       169.30127718, 169.50888346, 169.71648974, 169.92409601,\n",
       "       170.13170229, 170.33930857, 170.54691485, 170.75452112,\n",
       "       170.9621274 , 171.16973368, 171.37733995, 171.58494623,\n",
       "       171.79255251, 172.00015879, 172.20776506, 172.41537134,\n",
       "       172.62297762, 172.83058389, 173.03819017, 173.24579645,\n",
       "       173.45340273, 173.661009  , 173.86861528, 174.07622156,\n",
       "       174.28382783, 174.49143411, 174.69904039, 174.90664667,\n",
       "       175.11425294, 175.32185922, 175.5294655 , 175.73707177,\n",
       "       175.94467805, 176.15228433, 176.35989061, 176.56749688,\n",
       "       176.77510316, 176.98270944, 177.19031571, 177.39792199,\n",
       "       177.60552827, 177.81313454, 178.02074082, 178.2283471 ,\n",
       "       178.43595338, 178.64355965, 178.85116593, 179.05877221,\n",
       "       179.26637848, 179.47398476, 179.68159104, 179.88919732,\n",
       "       180.09680359, 180.30440987, 180.51201615, 180.71962242,\n",
       "       180.9272287 , 181.13483498, 181.34244126, 181.55004753,\n",
       "       181.75765381, 181.96526009, 182.17286636, 182.38047264,\n",
       "       182.58807892, 182.7956852 , 183.00329147, 183.21089775,\n",
       "       183.41850403, 183.6261103 , 183.83371658, 184.04132286,\n",
       "       184.24892914, 184.45653541, 184.66414169, 184.87174797,\n",
       "       185.07935424, 185.28696052, 185.4945668 , 185.70217308,\n",
       "       185.90977935, 186.11738563, 186.32499191, 186.53259818,\n",
       "       186.74020446, 186.94781074, 187.15541701, 187.36302329,\n",
       "       187.57062957, 187.77823585, 187.98584212, 188.1934484 ,\n",
       "       188.40105468, 188.60866095, 188.81626723, 189.02387351,\n",
       "       189.23147979, 189.43908606, 189.64669234, 189.85429862,\n",
       "       190.06190489, 190.26951117, 190.47711745, 190.68472373,\n",
       "       190.89233   , 191.09993628, 191.30754256, 191.51514883,\n",
       "       191.72275511, 191.93036139, 192.13796767, 192.34557394,\n",
       "       192.55318022, 192.7607865 , 192.96839277, 193.17599905])"
      ]
     },
     "execution_count": 43,
     "metadata": {},
     "output_type": "execute_result"
    }
   ],
   "source": [
    "y"
   ]
  },
  {
   "cell_type": "code",
   "execution_count": 44,
   "id": "cdf6a746",
   "metadata": {},
   "outputs": [
    {
     "data": {
      "image/png": "[encoded data removed]",
      "text/plain": [
       "<Figure size 432x288 with 1 Axes>"
      ]
     },
     "metadata": {
      "needs_background": "light"
     },
     "output_type": "display_data"
    }
   ],
   "source": [
    "plt.plot(y)\n",
    "plt.scatter(y_train,predicted)\n",
    "\n",
    "plt.show()"
   ]
  },
  {
   "cell_type": "code",
   "execution_count": 32,
   "id": "c7c6b2c5",
   "metadata": {},
   "outputs": [
    {
     "data": {
      "text/plain": [
       "-0.107225631607358"
      ]
     },
     "execution_count": 32,
     "metadata": {},
     "output_type": "execute_result"
    }
   ],
   "source": [
    "x_test.min()"
   ]
  },
  {
   "cell_type": "code",
   "execution_count": 27,
   "id": "7f90a2be",
   "metadata": {},
   "outputs": [
    {
     "data": {
      "text/plain": [
       "[<matplotlib.lines.Line2D at 0x1c55962ee50>]"
      ]
     },
     "execution_count": 27,
     "metadata": {},
     "output_type": "execute_result"
    },
    {
     "data": {
      "image/png": "[encoded data removed]",
      "text/plain": [
       "<Figure size 432x288 with 1 Axes>"
      ]
     },
     "metadata": {
      "needs_background": "light"
     },
     "output_type": "display_data"
    }
   ],
   "source": [
    "plt.plot(predicted)"
   ]
  },
  {
   "cell_type": "code",
   "execution_count": 29,
   "id": "2386cd5a",
   "metadata": {},
   "outputs": [
    {
     "data": {
      "text/plain": [
       "(309,)"
      ]
     },
     "execution_count": 29,
     "metadata": {},
     "output_type": "execute_result"
    }
   ],
   "source": [
    "predicted.shape"
   ]
  },
  {
   "cell_type": "code",
   "execution_count": 33,
   "id": "ee7fcd79",
   "metadata": {},
   "outputs": [
    {
     "data": {
      "text/plain": [
       "array([ 0.05987114,  0.0562386 , -0.00188202, -0.01277963,  0.01264814,\n",
       "       -0.02004471,  0.04170844, -0.07816532, -0.02367725,  0.00538306,\n",
       "        0.01628068,  0.05987114,  0.0090156 , -0.00914709, -0.02730979,\n",
       "        0.01991321, -0.05273755,  0.06713621,  0.04170844,  0.03807591,\n",
       "       -0.07090025,  0.02717829,  0.04534098,  0.03444337, -0.07453279,\n",
       "       -0.02730979, -0.04547248, -0.04910502, -0.04183994,  0.0090156 ,\n",
       "       -0.0382074 ,  0.06713621,  0.01991321, -0.02730979, -0.06363517,\n",
       "        0.04534098, -0.08906294, -0.05637009,  0.01628068,  0.01264814,\n",
       "       -0.07816532, -0.05273755,  0.06350368,  0.01264814,  0.01991321,\n",
       "        0.05987114, -0.08179786,  0.04897352,  0.02717829, -0.00188202,\n",
       "       -0.00551455,  0.00538306, -0.01641217,  0.01628068,  0.00538306,\n",
       "        0.00538306,  0.00175052, -0.01277963,  0.01628068,  0.03081083,\n",
       "        0.07076875,  0.06713621,  0.06350368,  0.01264814, -0.10722563,\n",
       "        0.06713621,  0.07440129,  0.04534098,  0.00538306, -0.04547248,\n",
       "        0.06713621, -0.00551455,  0.02354575,  0.04170844,  0.00175052,\n",
       "       -0.02730979,  0.04897352,  0.07076875,  0.05260606,  0.00175052,\n",
       "       -0.05273755,  0.01264814,  0.08893144, -0.07090025,  0.06350368,\n",
       "       -0.09632802, -0.06363517,  0.04170844, -0.03457486, -0.02730979,\n",
       "       -0.00188202,  0.04897352, -0.10722563, -0.04910502,  0.07440129,\n",
       "        0.04170844, -0.0382074 ,  0.04170844,  0.09619652, -0.06726771,\n",
       "       -0.07816532, -0.00551455, -0.0382074 , -0.02367725, -0.09996055,\n",
       "        0.0090156 ,  0.01628068,  0.01991321, -0.01641217,  0.00175052,\n",
       "        0.03807591, -0.00914709,  0.0090156 , -0.04547248, -0.00188202,\n",
       "       -0.07453279,  0.01628068, -0.02730979, -0.09269548, -0.06726771,\n",
       "        0.01628068,  0.07076875, -0.02730979,  0.01264814,  0.01628068,\n",
       "       -0.00188202,  0.03081083, -0.05273755, -0.04547248, -0.02004471,\n",
       "        0.02717829, -0.04547248,  0.02354575])"
      ]
     },
     "execution_count": 33,
     "metadata": {},
     "output_type": "execute_result"
    }
   ],
   "source": [
    "x_test\n"
   ]
  },
  {
   "cell_type": "code",
   "execution_count": null,
   "id": "8e1d3d52",
   "metadata": {},
   "outputs": [],
   "source": []
  }
 ],
 "metadata": {
  "kernelspec": {
   "display_name": "Python 3 (ipykernel)",
   "language": "python",
   "name": "python3"
  },
  "language_info": {
   "codemirror_mode": {
    "name": "ipython",
    "version": 3
   },
   "file_extension": ".py",
   "mimetype": "text/x-python",
   "name": "python",
   "nbconvert_exporter": "python",
   "pygments_lexer": "ipython3",
   "version": "3.9.7"
  }
 },
 "nbformat": 4,
 "nbformat_minor": 5
}
